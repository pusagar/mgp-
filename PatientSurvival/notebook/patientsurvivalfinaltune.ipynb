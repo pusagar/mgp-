{
 "cells": [
  {
   "cell_type": "markdown",
   "metadata": {},
   "source": [
    "# <center><b> MGP DL1 : Patient Survival Classification Project <b></center>"
   ]
  },
  {
   "cell_type": "markdown",
   "metadata": {},
   "source": [
    "---\n",
    "<a name = Section0></a>\n",
    "# **Table of Contents**\n",
    "---\n",
    "\n",
    "**1.** [**Introduction**](#Section1)<br>\n",
    "**2.** [**Problem Statement**](#Section2)<br>\n",
    "**3.** [**Importing Libraries**](#Section3)<br>\n",
    "  - **3.1** [**Version Check**](#Section31)\n",
    "  - **3.2** [**Importing Libraries**](#Section32)\n",
    "\n",
    "**4.** [**Data Acquisition & Description**](#Section4)<br>\n",
    "  - **4.1** [**Data Information**](#Section41)\n",
    "  - **4.2** [**Data Description**](#Section42)\n",
    "\n",
    "**5.** [**Data Pre-processing**](#Section5)<br>\n",
    "  - **5.1** [**Data Pre-profiling**](#Section51)<br>\n",
    "  - **5.2** [**Handling of Missing Data**](#Section52)<br>\n",
    "  - **5.3** [**Handling of Redundant Data**](#Section53)<br>\n",
    "  - **5.4** [**Handling of Inconsisten Data**](#Section54)<br>\n",
    "  - **5.5** [**Handling of Outliers**](#Section55)<br>\n",
    "  \n",
    "**6.** [**Exploratory Data Analysis**](#Section6)<br>\n",
    "   \n",
    "**7.** [**Data Post-Processing**](#Section7)<br>\n",
    "  - **7.1** [**Data Encoding**](#Section71)<br> \n",
    "  - **7.2** [**Data Preparation**](#Section72)<br>\n",
    "  - **7.3** [**Data Scaling**](#Section73)<br>\n",
    "\n",
    "**8.** [**Model Development & Evaluation using Deep Learning**](#Section8)<br>\n",
    "\n",
    "**9.** [**Saving and loading the keras model**](#Section9)<br>\n",
    "\n",
    "**10.** [**Explainable AI**](#Section10)<br>\n",
    "\n",
    "**11.** [**Hyperparameter Tuning**](#Section11)<br>\n",
    "\n",
    "**12.** [**Model Development & Evaluation using Logistic Regression**](#Section12)<br>\n",
    "\n",
    "**13.** [**Hyperparameter Tuning**](#Section13)<br>\n"
   ]
  },
  {
   "cell_type": "markdown",
   "metadata": {},
   "source": [
    "---\n",
    "<a name = Section1></a>\n",
    "# **1. Introduction**\n",
    "---\n"
   ]
  },
  {
   "cell_type": "markdown",
   "metadata": {},
   "source": [
    "- Getting a rapid understanding of the context of a patient’s overall health has been particularly important during the COVID-19 pandemic as healthcare workers around the world struggle with hospitals overloaded by patients in critical condition. Intensive Care Units (ICUs) often lack verified medical histories for incoming patients.\n",
    "\n",
    "- A patient in distress or a patient who is brought in confused or unresponsive may not be able to provide information about chronic conditions such as heart disease, injuries, or diabetes. Medical records may take days to transfer, especially for a patient from another medical provider or system. Knowledge about chronic conditions can inform clinical decisions about patient care and ultimately improve patient's survival outcomes."
   ]
  },
  {
   "cell_type": "markdown",
   "metadata": {},
   "source": [
    "---\n",
    "<a name = Section1></a>\n",
    "# **2. Problem Statement**\n",
    "---\n"
   ]
  },
  {
   "cell_type": "markdown",
   "metadata": {},
   "source": [
    "-  The target feature is hospital_death which is a binary variable. The task is to classify this variable based on the other 84 features step-by-step by going through each day's task. \n",
    "\n",
    "- The scoring metric is Accuracy/Area under ROC curve."
   ]
  },
  {
   "cell_type": "markdown",
   "metadata": {},
   "source": [
    "---\n",
    "<a name = Section3></a>\n",
    "# **3. Installing & Importing Libraries**                                                   \n",
    "---"
   ]
  },
  {
   "cell_type": "markdown",
   "metadata": {},
   "source": [
    "<a name = Section31></a>\n",
    "### **3.1 Installing Libraries**"
   ]
  },
  {
   "cell_type": "code",
   "execution_count": null,
   "metadata": {
    "ExecuteTime": {
     "end_time": "2022-03-29T04:03:47.527504Z",
     "start_time": "2022-03-29T04:03:47.511544Z"
    }
   },
   "outputs": [],
   "source": [
    "#!pip install -q pandas-profiling "
   ]
  },
  {
   "cell_type": "markdown",
   "metadata": {},
   "source": [
    "<a name = Section32></a>\n",
    "### **3.2 Upgrading Libraries**\n",
    "\n",
    "- **After upgrading** the libraries, you need to **restart the runtime** to make the libraries in sync. \n",
    "\n",
    "- Make sure not to execute the cell above (3.1) and below (3.2) again after restarting the runtime."
   ]
  },
  {
   "cell_type": "code",
   "execution_count": null,
   "metadata": {
    "ExecuteTime": {
     "end_time": "2022-04-02T12:01:02.215499Z",
     "start_time": "2022-04-02T12:01:02.206525Z"
    }
   },
   "outputs": [],
   "source": [
    "#!pip install -q --upgrade datascience                               \n",
    "#!pip install -q --upgrade pandas-profiling"
   ]
  },
  {
   "cell_type": "markdown",
   "metadata": {},
   "source": [
    "<a name = Section33></a>\n",
    "### **3.3 Importing Libraries**"
   ]
  },
  {
   "cell_type": "code",
   "execution_count": 1,
   "metadata": {
    "ExecuteTime": {
     "end_time": "2022-04-04T07:18:15.874768Z",
     "start_time": "2022-04-04T07:16:45.574176Z"
    },
    "execution": {
     "iopub.execute_input": "2022-04-05T04:23:39.854530Z",
     "iopub.status.busy": "2022-04-05T04:23:39.853847Z",
     "iopub.status.idle": "2022-04-05T04:23:41.827819Z",
     "shell.execute_reply": "2022-04-05T04:23:41.826940Z",
     "shell.execute_reply.started": "2022-04-05T04:23:39.854429Z"
    }
   },
   "outputs": [],
   "source": [
    "import numpy as np\n",
    "from numpy import isnan\n",
    "import pandas as pd\n",
    "from pandas_profiling import ProfileReport     \n",
    "import matplotlib.pyplot as plt\n",
    "%matplotlib inline\n",
    "from collections import Counter  \n",
    "import seaborn as sns\n",
    "import warnings                                                     \n",
    "warnings.filterwarnings(\"ignore\")\n",
    "import datetime\n",
    "plt.show();\n",
    "from platform import python_version\n",
    "import sklearn.metrics\n",
    "from tqdm import tqdm\n",
    "import gc\n",
    "from sklearn.metrics import roc_curve, auc\n",
    "import urllib\n",
    "from urllib.request import urlopen\n",
    "import urllib.request as ur"
   ]
  },
  {
   "cell_type": "code",
   "execution_count": 2,
   "metadata": {
    "ExecuteTime": {
     "end_time": "2022-04-04T07:18:15.890727Z",
     "start_time": "2022-04-04T07:18:15.879755Z"
    },
    "execution": {
     "iopub.execute_input": "2022-04-05T04:23:46.423960Z",
     "iopub.status.busy": "2022-04-05T04:23:46.423277Z",
     "iopub.status.idle": "2022-04-05T04:23:46.429605Z",
     "shell.execute_reply": "2022-04-05T04:23:46.427205Z",
     "shell.execute_reply.started": "2022-04-05T04:23:46.423922Z"
    }
   },
   "outputs": [],
   "source": [
    "pd.set_option('display.max_columns', None)                          \n",
    "pd.set_option('display.max_rows', None)                             \n",
    "pd.set_option('mode.chained_assignment', None)   "
   ]
  },
  {
   "cell_type": "code",
   "execution_count": 3,
   "metadata": {
    "ExecuteTime": {
     "end_time": "2022-04-04T07:18:29.366737Z",
     "start_time": "2022-04-04T07:18:15.897708Z"
    },
    "execution": {
     "iopub.execute_input": "2022-04-05T04:23:52.266318Z",
     "iopub.status.busy": "2022-04-05T04:23:52.265654Z",
     "iopub.status.idle": "2022-04-05T04:23:52.742991Z",
     "shell.execute_reply": "2022-04-05T04:23:52.742270Z",
     "shell.execute_reply.started": "2022-04-05T04:23:52.266279Z"
    }
   },
   "outputs": [],
   "source": [
    "from sklearn.preprocessing import StandardScaler                    \n",
    "from sklearn.preprocessing import MinMaxScaler\n",
    "from sklearn.model_selection import RandomizedSearchCV              \n",
    "from sklearn.metrics import classification_report                   \n",
    "from sklearn.metrics import plot_confusion_matrix                   \n",
    "#import pydotplus                                                    \n",
    "from IPython.display import Image                                   \n",
    "from sklearn.metrics import accuracy_score                          \n",
    "from sklearn.metrics import precision_score                         \n",
    "from sklearn.metrics import recall_score                            \n",
    "from sklearn.metrics import precision_recall_curve                  \n",
    "from sklearn.metrics import confusion_matrix                        \n",
    "from sklearn.metrics import f1_score                                  \n",
    "from sklearn.metrics import roc_curve                               \n",
    "from sklearn.metrics import plot_roc_curve\n",
    "from sklearn.model_selection import train_test_split                   \n",
    "from sklearn.linear_model import LogisticRegression                 \n",
    "from sklearn.tree import DecisionTreeClassifier \n",
    "from sklearn.model_selection import cross_val_score\n",
    "from sklearn.model_selection import KFold\n",
    "from sklearn.model_selection import StratifiedKFold\n",
    "from sklearn.pipeline import Pipeline\n",
    "from sklearn.pipeline import make_pipeline\n",
    "from sklearn.naive_bayes import GaussianNB\n",
    "from sklearn.discriminant_analysis import LinearDiscriminantAnalysis\n",
    "from sklearn.svm import SVC\n",
    "from xgboost import XGBClassifier\n",
    "from sklearn.metrics import accuracy_score\n",
    "from sklearn.neighbors import KNeighborsClassifier\n",
    "from sklearn.model_selection import GridSearchCV\n",
    "from sklearn.ensemble import RandomForestClassifier,AdaBoostClassifier,GradientBoostingClassifier\n",
    "from sklearn.ensemble import ExtraTreesClassifier\n",
    "from sklearn.feature_selection import SelectFromModel       \n",
    "from sklearn.ensemble import RandomForestClassifier               \n",
    "from yellowbrick.model_selection import FeatureImportances  \n",
    "from imblearn.over_sampling import SMOTE"
   ]
  },
  {
   "cell_type": "markdown",
   "metadata": {},
   "source": [
    "<a name = Section31></a>\n",
    "### **3.2 Version Check**"
   ]
  },
  {
   "cell_type": "code",
   "execution_count": 4,
   "metadata": {
    "ExecuteTime": {
     "end_time": "2022-04-04T07:18:29.412615Z",
     "start_time": "2022-04-04T07:18:29.370727Z"
    },
    "execution": {
     "iopub.execute_input": "2022-04-05T04:23:56.388079Z",
     "iopub.status.busy": "2022-04-05T04:23:56.387528Z",
     "iopub.status.idle": "2022-04-05T04:23:56.396358Z",
     "shell.execute_reply": "2022-04-05T04:23:56.395418Z",
     "shell.execute_reply.started": "2022-04-05T04:23:56.388042Z"
    }
   },
   "outputs": [],
   "source": [
    "# Printing versions of Python and other packages  to ensure correct version is used for this project\n",
    "print(\"python version\", python_version())\n",
    "print (\"pandas version\", pd.__version__)\n",
    "print (\"numpy version\", np.__version__)\n",
    "print (\"seaborn version\", sns.__version__)\n",
    "print (\"sklearn version\", sklearn.__version__)"
   ]
  },
  {
   "cell_type": "markdown",
   "metadata": {},
   "source": [
    "---\n",
    "<a name = Section4></a>\n",
    "# **4. Data Acquisition & Description**\n",
    "---\n"
   ]
  },
  {
   "cell_type": "code",
   "execution_count": 5,
   "metadata": {
    "ExecuteTime": {
     "end_time": "2022-04-04T07:18:36.168550Z",
     "start_time": "2022-04-04T07:18:29.416605Z"
    },
    "execution": {
     "iopub.execute_input": "2022-04-05T04:24:23.456682Z",
     "iopub.status.busy": "2022-04-05T04:24:23.456205Z",
     "iopub.status.idle": "2022-04-05T04:24:26.281268Z",
     "shell.execute_reply": "2022-04-05T04:24:26.280580Z",
     "shell.execute_reply.started": "2022-04-05T04:24:23.456642Z"
    }
   },
   "outputs": [],
   "source": [
    "# loading the data set\n",
    "df = pd.read_csv(\"../input/psdataset/Dataset.csv\")\n",
    "df = df.replace([' ', '?', \"\", '-','|','#','@','!'], value=np.nan)\n",
    "df.head()"
   ]
  },
  {
   "cell_type": "markdown",
   "metadata": {},
   "source": [
    "<a name = Section41></a>\n",
    "### **4.1 Data Information**\n",
    "\n",
    "- In this section we will see the **information about the types of features**."
   ]
  },
  {
   "cell_type": "code",
   "execution_count": 6,
   "metadata": {
    "ExecuteTime": {
     "end_time": "2022-04-04T07:18:36.294213Z",
     "start_time": "2022-04-04T07:18:36.172539Z"
    },
    "execution": {
     "iopub.execute_input": "2022-04-05T04:24:30.697518Z",
     "iopub.status.busy": "2022-04-05T04:24:30.697243Z",
     "iopub.status.idle": "2022-04-05T04:24:30.726073Z",
     "shell.execute_reply": "2022-04-05T04:24:30.725374Z",
     "shell.execute_reply.started": "2022-04-05T04:24:30.697477Z"
    }
   },
   "outputs": [],
   "source": [
    "df.info()"
   ]
  },
  {
   "cell_type": "code",
   "execution_count": 7,
   "metadata": {
    "ExecuteTime": {
     "end_time": "2022-04-04T07:18:36.545540Z",
     "start_time": "2022-04-04T07:18:36.298202Z"
    },
    "execution": {
     "iopub.execute_input": "2022-04-05T04:24:32.979867Z",
     "iopub.status.busy": "2022-04-05T04:24:32.979234Z",
     "iopub.status.idle": "2022-04-05T04:24:32.988544Z",
     "shell.execute_reply": "2022-04-05T04:24:32.987688Z",
     "shell.execute_reply.started": "2022-04-05T04:24:32.979827Z"
    }
   },
   "outputs": [],
   "source": [
    "df.shape"
   ]
  },
  {
   "cell_type": "markdown",
   "metadata": {},
   "source": [
    "<a name = Section42></a>\n",
    "### 4.2 Data Description \n",
    "\n",
    "- In this section we will get **information about the data** and see some observations.          "
   ]
  },
  {
   "cell_type": "code",
   "execution_count": 9,
   "metadata": {
    "ExecuteTime": {
     "end_time": "2022-04-04T07:18:39.775907Z",
     "start_time": "2022-04-04T07:18:36.551525Z"
    },
    "execution": {
     "iopub.execute_input": "2022-04-05T04:24:40.355772Z",
     "iopub.status.busy": "2022-04-05T04:24:40.355486Z",
     "iopub.status.idle": "2022-04-05T04:24:41.466489Z",
     "shell.execute_reply": "2022-04-05T04:24:41.465768Z",
     "shell.execute_reply.started": "2022-04-05T04:24:40.355739Z"
    }
   },
   "outputs": [],
   "source": [
    "df.describe().style.highlight_null(null_color = 'lime')"
   ]
  },
  {
   "cell_type": "code",
   "execution_count": null,
   "metadata": {
    "ExecuteTime": {
     "end_time": "2022-04-04T07:18:40.653555Z",
     "start_time": "2022-04-04T07:18:39.780889Z"
    }
   },
   "outputs": [],
   "source": [
    "df.describe(include=\"object\")"
   ]
  },
  {
   "cell_type": "markdown",
   "metadata": {},
   "source": [
    "**Observations:**\n",
    "\n",
    "- Total count/ records are  **91713** in the data.\n",
    "\n",
    "- There are quite a no of   missing values in various columns."
   ]
  },
  {
   "cell_type": "code",
   "execution_count": 10,
   "metadata": {
    "ExecuteTime": {
     "end_time": "2022-04-04T07:18:40.669511Z",
     "start_time": "2022-04-04T07:18:40.657545Z"
    },
    "execution": {
     "iopub.execute_input": "2022-04-05T04:24:46.428493Z",
     "iopub.status.busy": "2022-04-05T04:24:46.427835Z",
     "iopub.status.idle": "2022-04-05T04:24:46.431728Z",
     "shell.execute_reply": "2022-04-05T04:24:46.430915Z",
     "shell.execute_reply.started": "2022-04-05T04:24:46.428453Z"
    }
   },
   "outputs": [],
   "source": [
    "# Only for columns of train data set\n",
    "#df.columns = df.columns.str.lower().str.replace(' ', '_')"
   ]
  },
  {
   "cell_type": "markdown",
   "metadata": {},
   "source": [
    "<a name = Section5></a>\n",
    "\n",
    "---\n",
    "# **5. Data Pre-Processing**\n",
    "---"
   ]
  },
  {
   "cell_type": "markdown",
   "metadata": {},
   "source": [
    "<a name = Section51></a>\n",
    "### **5.1 Data Pre-Profiling**\n",
    "\n",
    "- For **quick analysis** pandas profiling is very handy.\n",
    "\n",
    "- Generates profile reports from a pandas DataFrame.\n",
    "\n",
    "- For each column **statistics** are presented in an interactive HTML report."
   ]
  },
  {
   "cell_type": "markdown",
   "metadata": {
    "ExecuteTime": {
     "end_time": "2022-03-29T08:14:53.065521Z",
     "start_time": "2022-03-29T07:31:53.631157Z"
    }
   },
   "source": [
    "profile1 = ProfileReport(df=df)\n",
    "profile1.to_file(output_file='RTA-PRE-Profiling Report.html')\n",
    "print('Accomplished!')"
   ]
  },
  {
   "cell_type": "markdown",
   "metadata": {},
   "source": [
    "<a name = Section52></a>\n",
    "### **5.2  Handling of Missing Data**\n",
    "\n",
    "- In this section, we will identify missing data and check the proportion of it and take appropriate measures."
   ]
  },
  {
   "cell_type": "code",
   "execution_count": 11,
   "metadata": {
    "ExecuteTime": {
     "end_time": "2022-04-04T07:18:41.046505Z",
     "start_time": "2022-04-04T07:18:40.673501Z"
    },
    "execution": {
     "iopub.execute_input": "2022-04-05T04:24:52.559886Z",
     "iopub.status.busy": "2022-04-05T04:24:52.559263Z",
     "iopub.status.idle": "2022-04-05T04:24:52.667463Z",
     "shell.execute_reply": "2022-04-05T04:24:52.666415Z",
     "shell.execute_reply.started": "2022-04-05T04:24:52.559837Z"
    }
   },
   "outputs": [],
   "source": [
    "# Check for any missing values\n",
    "print(any(df.isna().sum()))"
   ]
  },
  {
   "cell_type": "markdown",
   "metadata": {},
   "source": [
    "**Observations:**\n",
    "-  Looks like there are missing values in the  dataset."
   ]
  },
  {
   "cell_type": "code",
   "execution_count": 12,
   "metadata": {
    "ExecuteTime": {
     "end_time": "2022-04-04T07:18:41.454413Z",
     "start_time": "2022-04-04T07:18:41.050496Z"
    },
    "execution": {
     "iopub.execute_input": "2022-04-05T04:24:56.451869Z",
     "iopub.status.busy": "2022-04-05T04:24:56.451161Z",
     "iopub.status.idle": "2022-04-05T04:24:56.597461Z",
     "shell.execute_reply": "2022-04-05T04:24:56.596739Z",
     "shell.execute_reply.started": "2022-04-05T04:24:56.451827Z"
    }
   },
   "outputs": [],
   "source": [
    "# Check for any missing values\n",
    "#print(df[df.isna().any(axis=1)])\n",
    "print(len(df[df.isna().any(axis=1)]))"
   ]
  },
  {
   "cell_type": "markdown",
   "metadata": {},
   "source": [
    "**Observations:**\n",
    "\n",
    "-  As we had observed there are missing values in the events dataset. \n",
    "- There are approx 9427 missing values in the entire dataset."
   ]
  },
  {
   "cell_type": "code",
   "execution_count": 13,
   "metadata": {
    "ExecuteTime": {
     "end_time": "2022-04-04T07:18:42.111655Z",
     "start_time": "2022-04-04T07:18:41.458404Z"
    },
    "execution": {
     "iopub.execute_input": "2022-04-05T04:25:01.025972Z",
     "iopub.status.busy": "2022-04-05T04:25:01.025263Z",
     "iopub.status.idle": "2022-04-05T04:25:01.350361Z",
     "shell.execute_reply": "2022-04-05T04:25:01.349700Z",
     "shell.execute_reply.started": "2022-04-05T04:25:01.025932Z"
    }
   },
   "outputs": [],
   "source": [
    "null_frame = pd.DataFrame(index = df.columns.values)\n",
    "null_frame['Null Frequency'] = df.isnull().sum().values\n",
    "percent = df.isnull().sum().values/df.shape[0]\n",
    "null_frame['Missing %age'] = np.round(percent, decimals = 4) * 100\n",
    "null_frame.transpose()"
   ]
  },
  {
   "cell_type": "markdown",
   "metadata": {},
   "source": [
    "**Observations:**\n",
    "- Total % for missing values is as above"
   ]
  },
  {
   "cell_type": "code",
   "execution_count": 14,
   "metadata": {
    "ExecuteTime": {
     "end_time": "2022-04-02T12:02:21.651262Z",
     "start_time": "2022-04-02T12:02:18.596834Z"
    },
    "execution": {
     "iopub.execute_input": "2022-04-05T04:25:07.360085Z",
     "iopub.status.busy": "2022-04-05T04:25:07.359803Z",
     "iopub.status.idle": "2022-04-05T04:25:08.094217Z",
     "shell.execute_reply": "2022-04-05T04:25:08.093555Z",
     "shell.execute_reply.started": "2022-04-05T04:25:07.360055Z"
    }
   },
   "outputs": [],
   "source": [
    "# Stats of dataframe\n",
    "stats    = []\n",
    "for col in df.columns:\n",
    "    stats.append((col, df[col].nunique(), df[col].isnull().sum() * 100 / df.shape[0], df[col].value_counts(normalize=True, dropna=False).values[0] * 100, df[col].dtype))\n",
    "    \n",
    "stats_df = pd.DataFrame(stats, columns=['Feature', 'Unique_values', 'Percentage of missing values', 'Percentage of values in the biggest category', 'type'])\n",
    "stats_df.sort_values('Percentage of missing values', ascending=False)"
   ]
  },
  {
   "cell_type": "markdown",
   "metadata": {},
   "source": [
    "**Observations:**\n",
    "\n",
    "-  There are missing values in the  dataset. Now lets check for redundant data, if any."
   ]
  },
  {
   "cell_type": "code",
   "execution_count": 15,
   "metadata": {
    "ExecuteTime": {
     "end_time": "2022-04-04T07:19:11.408312Z",
     "start_time": "2022-04-04T07:18:42.125619Z"
    },
    "execution": {
     "iopub.execute_input": "2022-04-05T04:25:16.024241Z",
     "iopub.status.busy": "2022-04-05T04:25:16.023960Z",
     "iopub.status.idle": "2022-04-05T04:25:31.968610Z",
     "shell.execute_reply": "2022-04-05T04:25:31.967974Z",
     "shell.execute_reply.started": "2022-04-05T04:25:16.024211Z"
    }
   },
   "outputs": [],
   "source": [
    "for c in df.select_dtypes(exclude=['object', 'datetime64[ns]']):\n",
    "    print(\"col is\",c)\n",
    "    if df[c].isna().sum() != 0:\n",
    "        #print(c)\n",
    "        med_c = df[c].median()\n",
    "        print(med_c)\n",
    "        df[c]=df[c].replace(to_replace=np.nan, value=med_c)\n",
    "        decimals = 2    \n",
    "        df[c] = df[c].apply(lambda x: round(x, decimals))\n",
    "    else:\n",
    "        decimals = 2    \n",
    "        df[c] = df[c].apply(lambda x: round(x, decimals))"
   ]
  },
  {
   "cell_type": "code",
   "execution_count": 16,
   "metadata": {
    "ExecuteTime": {
     "end_time": "2022-04-04T07:19:11.863096Z",
     "start_time": "2022-04-04T07:19:11.412307Z"
    },
    "execution": {
     "iopub.execute_input": "2022-04-05T04:25:40.445171Z",
     "iopub.status.busy": "2022-04-05T04:25:40.444573Z",
     "iopub.status.idle": "2022-04-05T04:25:40.651447Z",
     "shell.execute_reply": "2022-04-05T04:25:40.650723Z",
     "shell.execute_reply.started": "2022-04-05T04:25:40.445132Z"
    }
   },
   "outputs": [],
   "source": [
    "for co in df.select_dtypes(include=['object']):\n",
    "    #print(\"col is\",co)\n",
    "    if df[co].isna().sum() != 0:\n",
    "        #print(\"insideif loop\", co)\n",
    "        med_co = df[co].mode()[0]\n",
    "        #print(med_co)\n",
    "        df[co]=df[co].replace(to_replace=np.nan, value=med_co) "
   ]
  },
  {
   "cell_type": "code",
   "execution_count": 17,
   "metadata": {
    "ExecuteTime": {
     "end_time": "2022-04-04T07:19:12.035636Z",
     "start_time": "2022-04-04T07:19:11.866088Z"
    },
    "execution": {
     "iopub.execute_input": "2022-04-05T04:25:44.613876Z",
     "iopub.status.busy": "2022-04-05T04:25:44.613222Z",
     "iopub.status.idle": "2022-04-05T04:25:44.723430Z",
     "shell.execute_reply": "2022-04-05T04:25:44.722761Z",
     "shell.execute_reply.started": "2022-04-05T04:25:44.613834Z"
    }
   },
   "outputs": [],
   "source": [
    "df.isna().sum()"
   ]
  },
  {
   "cell_type": "markdown",
   "metadata": {},
   "source": [
    "<a name = Section53></a>\n",
    "### **5.3 Handling of Redundant Data**\n",
    "\n",
    "- In this section, we will identify redundant data and check the proportion of it and take appropriate measures."
   ]
  },
  {
   "cell_type": "code",
   "execution_count": 18,
   "metadata": {
    "ExecuteTime": {
     "end_time": "2022-04-04T07:19:34.697452Z",
     "start_time": "2022-04-04T07:19:32.634969Z"
    },
    "execution": {
     "iopub.execute_input": "2022-04-05T04:25:50.336331Z",
     "iopub.status.busy": "2022-04-05T04:25:50.335621Z",
     "iopub.status.idle": "2022-04-05T04:25:50.754393Z",
     "shell.execute_reply": "2022-04-05T04:25:50.753663Z",
     "shell.execute_reply.started": "2022-04-05T04:25:50.336293Z"
    }
   },
   "outputs": [],
   "source": [
    "#check if any duplicate row\n",
    "print('Data has duplicate Rows?', df.duplicated().any())"
   ]
  },
  {
   "cell_type": "code",
   "execution_count": 19,
   "metadata": {
    "ExecuteTime": {
     "end_time": "2022-04-04T07:19:36.627292Z",
     "start_time": "2022-04-04T07:19:34.703438Z"
    },
    "execution": {
     "iopub.execute_input": "2022-04-05T04:25:54.127269Z",
     "iopub.status.busy": "2022-04-05T04:25:54.126673Z",
     "iopub.status.idle": "2022-04-05T04:25:54.522688Z",
     "shell.execute_reply": "2022-04-05T04:25:54.521841Z",
     "shell.execute_reply.started": "2022-04-05T04:25:54.127228Z"
    }
   },
   "outputs": [],
   "source": [
    "#To get the total count of duplicate values.\n",
    "df.duplicated().sum()"
   ]
  },
  {
   "cell_type": "code",
   "execution_count": 20,
   "metadata": {
    "ExecuteTime": {
     "end_time": "2022-04-04T07:19:38.486321Z",
     "start_time": "2022-04-04T07:19:36.632280Z"
    },
    "execution": {
     "iopub.execute_input": "2022-04-05T04:25:57.299562Z",
     "iopub.status.busy": "2022-04-05T04:25:57.299289Z",
     "iopub.status.idle": "2022-04-05T04:25:57.724776Z",
     "shell.execute_reply": "2022-04-05T04:25:57.724027Z",
     "shell.execute_reply.started": "2022-04-05T04:25:57.299531Z"
    }
   },
   "outputs": [],
   "source": [
    "# We will start by first removing the duplicate rows if there are any\n",
    "if df.duplicated().any() : \n",
    "    df.drop_duplicates(keep=\"first\", inplace=True)"
   ]
  },
  {
   "cell_type": "markdown",
   "metadata": {},
   "source": [
    "<a name = Section54></a>\n",
    "### **5.4 Handling of Inconsistent Data**\n",
    "\n",
    "- In this section, we will **identify inconsistency** in data and and then **take appropriate measures**."
   ]
  },
  {
   "cell_type": "code",
   "execution_count": null,
   "metadata": {
    "ExecuteTime": {
     "end_time": "2022-04-04T07:19:38.516243Z",
     "start_time": "2022-04-04T07:19:38.490312Z"
    }
   },
   "outputs": [],
   "source": [
    "df.columns"
   ]
  },
  {
   "cell_type": "code",
   "execution_count": 21,
   "metadata": {
    "ExecuteTime": {
     "end_time": "2022-04-04T07:19:38.843368Z",
     "start_time": "2022-04-04T07:19:38.521228Z"
    },
    "execution": {
     "iopub.execute_input": "2022-04-05T04:26:00.911773Z",
     "iopub.status.busy": "2022-04-05T04:26:00.911493Z",
     "iopub.status.idle": "2022-04-05T04:26:00.926089Z",
     "shell.execute_reply": "2022-04-05T04:26:00.925270Z",
     "shell.execute_reply.started": "2022-04-05T04:26:00.911740Z"
    }
   },
   "outputs": [],
   "source": [
    "# Get list of categorical variables,date  and numerical variables for the data set\n",
    "catcol=[col for col in df.columns if df[col].dtype == \"object\"]\n",
    "print(\"Categorical cols of dataset = \", catcol, \". No of categorical features = \", len(catcol))\n",
    "print(\"**********************************************************\\n\")\n",
    "datecol=[col for col in df.columns if df[col].dtype == \"datetime64[ns]\"]\n",
    "print(\"DateTime cols of dataset = \", datecol, \". No of datetime features = \", len(datecol))\n",
    "print(\"**********************************************************\\n\")\n",
    "numcol = [col for col in df.columns if (df[col].dtype != \"object\") & (df[col].dtype != \"datetime64[ns]\")]\n",
    "print(\"Numerical cols of dataset = \", numcol, \". No of numerical features = \", len(numcol))"
   ]
  },
  {
   "cell_type": "code",
   "execution_count": 22,
   "metadata": {
    "ExecuteTime": {
     "end_time": "2022-04-04T07:19:47.662813Z",
     "start_time": "2022-04-04T07:19:47.627906Z"
    },
    "execution": {
     "iopub.execute_input": "2022-04-05T04:26:10.776730Z",
     "iopub.status.busy": "2022-04-05T04:26:10.776449Z",
     "iopub.status.idle": "2022-04-05T04:26:10.787473Z",
     "shell.execute_reply": "2022-04-05T04:26:10.786682Z",
     "shell.execute_reply.started": "2022-04-05T04:26:10.776685Z"
    }
   },
   "outputs": [],
   "source": [
    "df['gender'].unique()"
   ]
  },
  {
   "cell_type": "code",
   "execution_count": 23,
   "metadata": {
    "ExecuteTime": {
     "end_time": "2022-04-04T07:19:48.880556Z",
     "start_time": "2022-04-04T07:19:48.822714Z"
    },
    "execution": {
     "iopub.execute_input": "2022-04-05T04:26:14.049391Z",
     "iopub.status.busy": "2022-04-05T04:26:14.049138Z",
     "iopub.status.idle": "2022-04-05T04:26:14.076408Z",
     "shell.execute_reply": "2022-04-05T04:26:14.075615Z",
     "shell.execute_reply.started": "2022-04-05T04:26:14.049361Z"
    }
   },
   "outputs": [],
   "source": [
    "# Learn more about the variable brand.\n",
    "print(\"Distinct responses for hospital_death (Frequency):\", len(set(df['hospital_death'])))\n",
    "print(\"Distinct responses for hospital_death:\", set(df['hospital_death']))  "
   ]
  },
  {
   "cell_type": "markdown",
   "metadata": {},
   "source": [
    "**Observations:**\n",
    "\n",
    "-  There are no 2 type of hospital_death"
   ]
  },
  {
   "cell_type": "code",
   "execution_count": 24,
   "metadata": {
    "ExecuteTime": {
     "end_time": "2022-04-04T07:19:50.386531Z",
     "start_time": "2022-04-04T07:19:50.252888Z"
    },
    "execution": {
     "iopub.execute_input": "2022-04-05T04:26:16.512221Z",
     "iopub.status.busy": "2022-04-05T04:26:16.511574Z",
     "iopub.status.idle": "2022-04-05T04:26:16.658793Z",
     "shell.execute_reply": "2022-04-05T04:26:16.657812Z",
     "shell.execute_reply.started": "2022-04-05T04:26:16.512180Z"
    }
   },
   "outputs": [],
   "source": [
    "gc.collect()"
   ]
  },
  {
   "cell_type": "code",
   "execution_count": 25,
   "metadata": {
    "ExecuteTime": {
     "end_time": "2022-04-04T07:19:50.843308Z",
     "start_time": "2022-04-04T07:19:50.467314Z"
    },
    "execution": {
     "iopub.execute_input": "2022-04-05T04:26:22.800483Z",
     "iopub.status.busy": "2022-04-05T04:26:22.800049Z",
     "iopub.status.idle": "2022-04-05T04:26:22.865943Z",
     "shell.execute_reply": "2022-04-05T04:26:22.865160Z",
     "shell.execute_reply.started": "2022-04-05T04:26:22.800443Z"
    }
   },
   "outputs": [],
   "source": [
    "df[df['hospital_death']==0]['gender'].value_counts()"
   ]
  },
  {
   "cell_type": "code",
   "execution_count": 26,
   "metadata": {
    "ExecuteTime": {
     "end_time": "2022-04-04T07:19:51.252215Z",
     "start_time": "2022-04-04T07:19:50.848296Z"
    },
    "execution": {
     "iopub.execute_input": "2022-04-05T04:26:27.283526Z",
     "iopub.status.busy": "2022-04-05T04:26:27.283240Z",
     "iopub.status.idle": "2022-04-05T04:26:27.323397Z",
     "shell.execute_reply": "2022-04-05T04:26:27.322575Z",
     "shell.execute_reply.started": "2022-04-05T04:26:27.283485Z"
    }
   },
   "outputs": [],
   "source": [
    "pd.crosstab(index=df['hospital_death'], columns=df['gender'])"
   ]
  },
  {
   "cell_type": "code",
   "execution_count": 27,
   "metadata": {
    "ExecuteTime": {
     "end_time": "2022-04-02T12:03:32.916075Z",
     "start_time": "2022-04-02T12:02:53.425452Z"
    },
    "execution": {
     "iopub.execute_input": "2022-04-05T04:26:32.235479Z",
     "iopub.status.busy": "2022-04-05T04:26:32.235193Z",
     "iopub.status.idle": "2022-04-05T04:26:55.801143Z",
     "shell.execute_reply": "2022-04-05T04:26:55.800558Z",
     "shell.execute_reply.started": "2022-04-05T04:26:32.235447Z"
    }
   },
   "outputs": [],
   "source": [
    "# checking the distribution \n",
    "plt.suptitle('Hist plots for the data set',bbox={'facecolor': '0.8', 'pad': 8}, fontsize=20)\n",
    "df.hist(figsize=(64, 40), bins=8)\n",
    "plt.show()"
   ]
  },
  {
   "cell_type": "code",
   "execution_count": 28,
   "metadata": {
    "ExecuteTime": {
     "end_time": "2022-04-02T12:03:33.871175Z",
     "start_time": "2022-04-02T12:03:32.920066Z"
    },
    "execution": {
     "iopub.execute_input": "2022-04-05T04:27:01.326342Z",
     "iopub.status.busy": "2022-04-05T04:27:01.325960Z",
     "iopub.status.idle": "2022-04-05T04:27:01.555819Z",
     "shell.execute_reply": "2022-04-05T04:27:01.555126Z",
     "shell.execute_reply.started": "2022-04-05T04:27:01.326309Z"
    }
   },
   "outputs": [],
   "source": [
    "fig = plt.figure(figsize=(10,8))\n",
    "sns.boxplot(data=df, y='apache_post_operative')\n",
    "fig.suptitle('Box plots for the data set', bbox={'facecolor': '0.8', 'pad': 8}, fontsize=14)\n",
    "plt.show()"
   ]
  },
  {
   "cell_type": "code",
   "execution_count": 29,
   "metadata": {
    "ExecuteTime": {
     "end_time": "2022-04-02T12:03:34.275283Z",
     "start_time": "2022-04-02T12:03:33.875155Z"
    },
    "execution": {
     "iopub.execute_input": "2022-04-05T04:27:04.893537Z",
     "iopub.status.busy": "2022-04-05T04:27:04.893278Z",
     "iopub.status.idle": "2022-04-05T04:27:05.116393Z",
     "shell.execute_reply": "2022-04-05T04:27:05.115698Z",
     "shell.execute_reply.started": "2022-04-05T04:27:04.893508Z"
    }
   },
   "outputs": [],
   "source": [
    "fig = plt.figure(figsize=(10,8))\n",
    "sns.boxplot(data=df, y='hospital_death', x='aids')\n",
    "fig.suptitle('Box plots for the no of aids', bbox={'facecolor': '0.8', 'pad': 8}, fontsize=14)\n",
    "plt.show()"
   ]
  },
  {
   "cell_type": "markdown",
   "metadata": {},
   "source": [
    "<a name = Section55></a>\n",
    "### **5.5 Handling of Outliers**\n"
   ]
  },
  {
   "cell_type": "code",
   "execution_count": 30,
   "metadata": {
    "ExecuteTime": {
     "end_time": "2022-04-04T07:21:26.104404Z",
     "start_time": "2022-04-04T07:19:59.980712Z"
    },
    "execution": {
     "iopub.execute_input": "2022-04-05T04:27:12.349484Z",
     "iopub.status.busy": "2022-04-05T04:27:12.349008Z",
     "iopub.status.idle": "2022-04-05T04:27:46.121669Z",
     "shell.execute_reply": "2022-04-05T04:27:46.120862Z",
     "shell.execute_reply.started": "2022-04-05T04:27:12.349445Z"
    }
   },
   "outputs": [],
   "source": [
    "# for data\n",
    "outcol = ['age', 'bmi', 'elective_surgery', 'height', 'icu_id', 'pre_icu_los_days', 'readmission_status', 'weight',\n",
    "          'albumin_apache', 'apache_2_diagnosis', 'apache_3j_diagnosis', 'apache_post_operative', 'arf_apache', \n",
    "          'bilirubin_apache', 'bun_apache', 'creatinine_apache', 'fio2_apache', 'gcs_eyes_apache', 'gcs_motor_apache',\n",
    "          'gcs_unable_apache', 'gcs_verbal_apache', 'glucose_apache', 'heart_rate_apache', 'hematocrit_apache',\n",
    "          'intubated_apache', 'map_apache', 'paco2_apache', 'paco2_for_ph_apache', 'pao2_apache', 'ph_apache', 'resprate_apache',\n",
    "          'sodium_apache', 'temp_apache', 'urineoutput_apache', 'ventilated_apache', 'wbc_apache', 'd1_diasbp_invasive_max',\n",
    "          'd1_diasbp_invasive_min', 'd1_diasbp_max', 'd1_diasbp_min', 'd1_diasbp_noninvasive_max', 'd1_diasbp_noninvasive_min',\n",
    "          'd1_heartrate_max', 'd1_heartrate_min', 'd1_mbp_invasive_max', 'd1_mbp_invasive_min', 'd1_mbp_max', 'd1_mbp_min',\n",
    "          'd1_mbp_noninvasive_max', 'd1_mbp_noninvasive_min', 'd1_resprate_max', 'd1_resprate_min', 'd1_spo2_max', 'd1_spo2_min',\n",
    "          'd1_sysbp_invasive_max', 'd1_sysbp_invasive_min', 'd1_sysbp_max', 'd1_sysbp_min', 'd1_sysbp_noninvasive_max',\n",
    "          'd1_sysbp_noninvasive_min', 'd1_temp_max', 'd1_temp_min', 'h1_diasbp_invasive_max', 'h1_diasbp_invasive_min', \n",
    "          'h1_diasbp_max', 'h1_diasbp_min', 'h1_diasbp_noninvasive_max', 'h1_diasbp_noninvasive_min', 'h1_heartrate_max', \n",
    "          'h1_heartrate_min', 'h1_mbp_invasive_max', 'h1_mbp_invasive_min', 'h1_mbp_max', 'h1_mbp_min', 'h1_mbp_noninvasive_max',\n",
    "          'h1_mbp_noninvasive_min', 'h1_resprate_max', 'h1_resprate_min', 'h1_spo2_max', 'h1_spo2_min', 'h1_sysbp_invasive_max',\n",
    "          'h1_sysbp_invasive_min', 'h1_sysbp_max', 'h1_sysbp_min', 'h1_sysbp_noninvasive_max', 'h1_sysbp_noninvasive_min', \n",
    "          'h1_temp_max', 'h1_temp_min', 'd1_albumin_max', 'd1_albumin_min', 'd1_bilirubin_max', 'd1_bilirubin_min', 'd1_bun_max',\n",
    "          'd1_bun_min', 'd1_calcium_max', 'd1_calcium_min', 'd1_creatinine_max', 'd1_creatinine_min', 'd1_glucose_max',\n",
    "          'd1_glucose_min', 'd1_hco3_max', 'd1_hco3_min', 'd1_hemaglobin_max', 'd1_hemaglobin_min', 'd1_hematocrit_max', \n",
    "          'd1_hematocrit_min', 'd1_inr_max', 'd1_inr_min', 'd1_lactate_max', 'd1_lactate_min', 'd1_platelets_max', 'd1_platelets_min',\n",
    "          'd1_potassium_max', 'd1_potassium_min', 'd1_sodium_max', 'd1_sodium_min', 'd1_wbc_max', 'd1_wbc_min', 'h1_albumin_max',\n",
    "          'h1_albumin_min', 'h1_bilirubin_max', 'h1_bilirubin_min', 'h1_bun_max', 'h1_bun_min', 'h1_calcium_max', 'h1_calcium_min',\n",
    "          'h1_creatinine_max', 'h1_creatinine_min', 'h1_glucose_max', 'h1_glucose_min', 'h1_hco3_max', 'h1_hco3_min', \n",
    "          'h1_hemaglobin_max', 'h1_hemaglobin_min', 'h1_hematocrit_max', 'h1_hematocrit_min', 'h1_inr_max', 'h1_inr_min',\n",
    "          'h1_lactate_max', 'h1_lactate_min', 'h1_platelets_max', 'h1_platelets_min', 'h1_potassium_max', 'h1_potassium_min', \n",
    "          'h1_sodium_max', 'h1_sodium_min', 'h1_wbc_max', 'h1_wbc_min', 'd1_arterial_pco2_max', 'd1_arterial_pco2_min',\n",
    "          'd1_arterial_ph_max', 'd1_arterial_ph_min', 'd1_arterial_po2_max', 'd1_arterial_po2_min', 'd1_pao2fio2ratio_max', \n",
    "          'd1_pao2fio2ratio_min', 'h1_arterial_pco2_max', 'h1_arterial_pco2_min', 'h1_arterial_ph_max', 'h1_arterial_ph_min',\n",
    "          'h1_arterial_po2_max', 'h1_arterial_po2_min', 'h1_pao2fio2ratio_max', 'h1_pao2fio2ratio_min',\n",
    "          'apache_4a_hospital_death_prob', 'apache_4a_icu_death_prob', 'aids', 'cirrhosis',\n",
    "          'diabetes_mellitus', 'hepatic_failure', 'immunosuppression', 'leukemia', 'lymphoma', 'solid_tumor_with_metastasis']\n",
    "fig = plt.figure(figsize=(44, 20))\n",
    "fig.suptitle('Box plots for the data set with outliers',bbox={'facecolor': '0.8', 'pad': 8}, fontsize=20)\n",
    "for predictor in outcol:\n",
    "    ctrain_o = outcol.index(predictor)\n",
    "    # print(cntss)\n",
    "    subsc = fig.add_subplot(63,3, ctrain_o+1)\n",
    "    subsc.set_xlabel(predictor.upper())\n",
    "    # sns.boxplot(y=trainstay[predictor])\n",
    "    df[predictor].plot.box(grid=True, layout=(4, 2), vert=False, sym='rs')\n",
    "    subsc.title.set_text('Boxplot Test: ' + str(predictor))"
   ]
  },
  {
   "cell_type": "code",
   "execution_count": 31,
   "metadata": {
    "ExecuteTime": {
     "end_time": "2022-04-04T07:34:10.027196Z",
     "start_time": "2022-04-04T07:21:26.109391Z"
    },
    "execution": {
     "iopub.execute_input": "2022-04-05T04:27:46.123596Z",
     "iopub.status.busy": "2022-04-05T04:27:46.123346Z",
     "iopub.status.idle": "2022-04-05T04:32:08.219858Z",
     "shell.execute_reply": "2022-04-05T04:32:08.219084Z",
     "shell.execute_reply.started": "2022-04-05T04:27:46.123564Z"
    }
   },
   "outputs": [],
   "source": [
    "for c in outcol:\n",
    "    print(c)    \n",
    "    Q1 = df[c].quantile(0.25)\n",
    "    Q3 = df[c].quantile(0.75)   \n",
    "    IQR = Q3-Q1\n",
    "    upper = Q3+1.5*IQR    \n",
    "    lower = Q1-1.5*IQR\n",
    "    print('Percentiles: 25th(Q1)=%.3f, 75th(Q3)=%.3f, IQR=%.3f' % (Q1, Q1, IQR))\n",
    "    # Identify outliers\n",
    "    outliers = [x for x in df[c] if x < lower or x > upper]\n",
    "    print('Identified outliers: %d' % len(outliers))\n",
    "    #print(trainstay[c])         \n",
    "    df[c][df[c]>=upper]=upper\n",
    "    df[c][df[c]<=lower]=lower"
   ]
  },
  {
   "cell_type": "code",
   "execution_count": 32,
   "metadata": {
    "ExecuteTime": {
     "end_time": "2022-04-04T07:35:16.916327Z",
     "start_time": "2022-04-04T07:34:10.031188Z"
    },
    "execution": {
     "iopub.execute_input": "2022-04-05T04:32:08.221233Z",
     "iopub.status.busy": "2022-04-05T04:32:08.220975Z",
     "iopub.status.idle": "2022-04-05T04:32:36.486241Z",
     "shell.execute_reply": "2022-04-05T04:32:36.485575Z",
     "shell.execute_reply.started": "2022-04-05T04:32:08.221200Z"
    }
   },
   "outputs": [],
   "source": [
    "# for data\n",
    "fig = plt.figure(figsize=(24, 20))\n",
    "fig.suptitle(' Box and whisker plot for the data set after removing OUTLIERS', bbox={'facecolor':'0.8', 'pad':12}, fontsize = 20)\n",
    "# Plotting scatter chart for each predictor vs the target variable\n",
    "for predictor in outcol:\n",
    "    ctrain = outcol.index(predictor)    \n",
    "    #print(cntss)    \n",
    "    subsc = fig.add_subplot(63, 3, ctrain+1)    \n",
    "    subsc.set_xlabel(predictor.upper()) \n",
    "    df[predictor].plot.box(grid=True, layout=(4, 2), vert = False, sym='rs')\n",
    "    #plt.show(block=True)\n",
    "    subsc.title.set_text('Boxplot : '+ str(predictor))  "
   ]
  },
  {
   "cell_type": "code",
   "execution_count": 33,
   "metadata": {
    "ExecuteTime": {
     "end_time": "2022-04-02T12:17:54.530385Z",
     "start_time": "2022-04-02T12:15:28.504318Z"
    },
    "execution": {
     "iopub.execute_input": "2022-04-05T04:35:27.395726Z",
     "iopub.status.busy": "2022-04-05T04:35:27.395433Z",
     "iopub.status.idle": "2022-04-05T04:36:03.908284Z",
     "shell.execute_reply": "2022-04-05T04:36:03.907572Z",
     "shell.execute_reply.started": "2022-04-05T04:35:27.395679Z"
    }
   },
   "outputs": [],
   "source": [
    "corr = df.drop('hospital_death', axis=1).corr()\n",
    "sns.heatmap(corr, annot=True, cmap='RdYlGn',\n",
    "            vmax=1.0, vmin=-1.0, center=0, linewidth=0.1, annot_kws={'size': 8}, square=True, fmt='.2f',)"
   ]
  },
  {
   "cell_type": "markdown",
   "metadata": {},
   "source": [
    "../input/psdataset<a name = Section6></a>\n",
    "\n",
    "---\n",
    "# **6. Exploratory Data Analysis**\n",
    "---\n",
    "\n",
    "**NOTE**:  \n",
    "\n",
    "- Exploratory Data Analysis will explore all the features and their relationship with other features\n",
    "- Both non-graphical and graphical method will be used as applicable to respective features\n",
    "- Both univariate and bivariate method be used as applicable to respective features"
   ]
  },
  {
   "cell_type": "code",
   "execution_count": 38,
   "metadata": {
    "ExecuteTime": {
     "end_time": "2022-04-04T07:56:10.823619Z",
     "start_time": "2022-04-04T07:55:48.472389Z"
    },
    "execution": {
     "iopub.execute_input": "2022-04-05T04:38:51.071352Z",
     "iopub.status.busy": "2022-04-05T04:38:51.070802Z",
     "iopub.status.idle": "2022-04-05T04:38:51.124543Z",
     "shell.execute_reply": "2022-04-05T04:38:51.123646Z",
     "shell.execute_reply.started": "2022-04-05T04:38:51.071312Z"
    }
   },
   "outputs": [],
   "source": [
    "print(df.shape)\n",
    "#df.to_csv(\"../input/psdataset/dfinal.csv\")\n",
    "#dfinal.read_csv(\"dfinal.csv\", index_col=0)\n",
    "dfinal=df.copy()\n",
    "print(dfinal.shape)"
   ]
  },
  {
   "cell_type": "code",
   "execution_count": 39,
   "metadata": {
    "ExecuteTime": {
     "end_time": "2022-04-04T07:56:10.855531Z",
     "start_time": "2022-04-04T07:56:10.828604Z"
    },
    "execution": {
     "iopub.execute_input": "2022-04-05T04:38:56.613749Z",
     "iopub.status.busy": "2022-04-05T04:38:56.613134Z",
     "iopub.status.idle": "2022-04-05T04:38:56.622689Z",
     "shell.execute_reply": "2022-04-05T04:38:56.621879Z",
     "shell.execute_reply.started": "2022-04-05T04:38:56.613689Z"
    }
   },
   "outputs": [],
   "source": [
    "dfinal['hospital_death'].value_counts()"
   ]
  },
  {
   "cell_type": "code",
   "execution_count": 40,
   "metadata": {
    "ExecuteTime": {
     "end_time": "2022-04-04T07:35:52.808790Z",
     "start_time": "2022-04-04T07:35:52.641239Z"
    },
    "execution": {
     "iopub.execute_input": "2022-04-05T04:38:59.729138Z",
     "iopub.status.busy": "2022-04-05T04:38:59.728599Z",
     "iopub.status.idle": "2022-04-05T04:38:59.735216Z",
     "shell.execute_reply": "2022-04-05T04:38:59.734524Z",
     "shell.execute_reply.started": "2022-04-05T04:38:59.729096Z"
    }
   },
   "outputs": [],
   "source": [
    "dfinal.columns"
   ]
  },
  {
   "cell_type": "code",
   "execution_count": 41,
   "metadata": {
    "ExecuteTime": {
     "end_time": "2022-04-04T08:07:00.135499Z",
     "start_time": "2022-04-04T08:06:58.142828Z"
    },
    "execution": {
     "iopub.execute_input": "2022-04-05T04:39:03.875418Z",
     "iopub.status.busy": "2022-04-05T04:39:03.875160Z",
     "iopub.status.idle": "2022-04-05T04:39:04.642900Z",
     "shell.execute_reply": "2022-04-05T04:39:04.642213Z",
     "shell.execute_reply.started": "2022-04-05T04:39:03.875388Z"
    }
   },
   "outputs": [],
   "source": [
    "dfinal.describe().T"
   ]
  },
  {
   "cell_type": "code",
   "execution_count": 42,
   "metadata": {
    "ExecuteTime": {
     "end_time": "2022-04-04T07:56:11.393093Z",
     "start_time": "2022-04-04T07:56:11.163708Z"
    },
    "execution": {
     "iopub.execute_input": "2022-04-05T04:39:13.731662Z",
     "iopub.status.busy": "2022-04-05T04:39:13.731404Z",
     "iopub.status.idle": "2022-04-05T04:39:13.752408Z",
     "shell.execute_reply": "2022-04-05T04:39:13.751516Z",
     "shell.execute_reply.started": "2022-04-05T04:39:13.731633Z"
    }
   },
   "outputs": [],
   "source": [
    "# Get list of categorical variables,date  and numerical variables for the data set\n",
    "fcatcol=[col for col in dfinal.columns if dfinal[col].dtype == \"object\"]\n",
    "print(\"Categorical cols of dataset = \", catcol, \". No of categorical features = \", len(catcol))\n",
    "print(\"*****************************************************************\\n\")\n",
    "fdatecol=[col for col in dfinal.columns if dfinal[col].dtype == \"datetime64[ns]\"]\n",
    "print(\"DateTime cols of dataset = \", datecol, \". No of datetime features = \", len(datecol))\n",
    "print(\"*****************************************************************\\n\")\n",
    "fnumcol = [col for col in dfinal.columns if (dfinal[col].dtype != \"object\") & (dfinal[col].dtype != \"datetime64[ns]\")]\n",
    "print(\"Numerical cols of dataset = \", numcol, \". No of numerical features = \", len(numcol))"
   ]
  },
  {
   "cell_type": "code",
   "execution_count": 44,
   "metadata": {
    "ExecuteTime": {
     "end_time": "2022-04-02T12:18:48.044026Z",
     "start_time": "2022-04-02T12:17:56.192970Z"
    },
    "execution": {
     "iopub.execute_input": "2022-04-05T04:39:57.762061Z",
     "iopub.status.busy": "2022-04-05T04:39:57.761532Z",
     "iopub.status.idle": "2022-04-05T04:40:27.694068Z",
     "shell.execute_reply": "2022-04-05T04:40:27.693394Z",
     "shell.execute_reply.started": "2022-04-05T04:39:57.762020Z"
    }
   },
   "outputs": [],
   "source": [
    "dfinal.hist(figsize=(40,40), grid=True, layout=(63,3), bins = 10)\n",
    "plt.suptitle(\"Histogram Plot\" + str(fnumcol), bbox={'facecolor':'0.8','pad':5},fontsize = 14);"
   ]
  },
  {
   "cell_type": "code",
   "execution_count": 45,
   "metadata": {
    "ExecuteTime": {
     "end_time": "2022-04-02T12:18:55.463493Z",
     "start_time": "2022-04-02T12:18:48.048016Z"
    },
    "execution": {
     "iopub.execute_input": "2022-04-05T04:40:42.063550Z",
     "iopub.status.busy": "2022-04-05T04:40:42.063288Z",
     "iopub.status.idle": "2022-04-05T04:40:45.790049Z",
     "shell.execute_reply": "2022-04-05T04:40:45.789420Z",
     "shell.execute_reply.started": "2022-04-05T04:40:42.063519Z"
    }
   },
   "outputs": [],
   "source": [
    "plt.figure(figsize=(30,30))\n",
    "for i,feature in enumerate(fcatcol):\n",
    "    plt.subplot(5,6,i+1)\n",
    "    sns.countplot(dfinal[feature],hue=dfinal['hospital_death']);\n",
    "    \n",
    "plt.suptitle(\"countplotplot\" + str(fnumcol), bbox={'facecolor':'0.8','pad':5},fontsize = 14)\n",
    "plt.show()"
   ]
  },
  {
   "cell_type": "code",
   "execution_count": 46,
   "metadata": {
    "ExecuteTime": {
     "end_time": "2022-04-02T12:18:55.795869Z",
     "start_time": "2022-04-02T12:18:55.467483Z"
    },
    "execution": {
     "iopub.execute_input": "2022-04-05T04:40:53.169573Z",
     "iopub.status.busy": "2022-04-05T04:40:53.169297Z",
     "iopub.status.idle": "2022-04-05T04:40:53.393054Z",
     "shell.execute_reply": "2022-04-05T04:40:53.392368Z",
     "shell.execute_reply.started": "2022-04-05T04:40:53.169541Z"
    }
   },
   "outputs": [],
   "source": [
    "plt.figure(figsize=(10,7))\n",
    "sns.boxplot(data=dfinal, y='d1_calcium_max', x='hospital_death');\n",
    "plt.suptitle(\"Boxplot for d1_calcium_max and hospital_death\", bbox={'facecolor':'0.8','pad':5},fontsize = 14)\n",
    "plt.show()"
   ]
  },
  {
   "cell_type": "code",
   "execution_count": 47,
   "metadata": {
    "ExecuteTime": {
     "end_time": "2022-04-02T12:18:56.345036Z",
     "start_time": "2022-04-02T12:18:55.799823Z"
    },
    "execution": {
     "iopub.execute_input": "2022-04-05T04:41:03.099619Z",
     "iopub.status.busy": "2022-04-05T04:41:03.099349Z",
     "iopub.status.idle": "2022-04-05T04:41:03.463197Z",
     "shell.execute_reply": "2022-04-05T04:41:03.462562Z",
     "shell.execute_reply.started": "2022-04-05T04:41:03.099586Z"
    }
   },
   "outputs": [],
   "source": [
    "plt.figure(figsize=(10,7))\n",
    "sns.boxplot(data=dfinal, y='weight', x='gender', hue = 'hospital_death');\n",
    "plt.suptitle(\"Boxplot for weight Vs weight wrt  hospital_death\", bbox={'facecolor':'0.8','pad':5},fontsize = 14)\n",
    "plt.show()"
   ]
  },
  {
   "cell_type": "code",
   "execution_count": 48,
   "metadata": {
    "ExecuteTime": {
     "end_time": "2022-04-02T12:18:56.470422Z",
     "start_time": "2022-04-02T12:18:56.351020Z"
    },
    "execution": {
     "iopub.execute_input": "2022-04-05T04:41:08.219822Z",
     "iopub.status.busy": "2022-04-05T04:41:08.219308Z",
     "iopub.status.idle": "2022-04-05T04:41:08.246259Z",
     "shell.execute_reply": "2022-04-05T04:41:08.245556Z",
     "shell.execute_reply.started": "2022-04-05T04:41:08.219787Z"
    }
   },
   "outputs": [],
   "source": [
    "pd.crosstab(index=dfinal['urineoutput_apache'], columns=dfinal['hospital_death'])"
   ]
  },
  {
   "cell_type": "code",
   "execution_count": 49,
   "metadata": {
    "ExecuteTime": {
     "end_time": "2022-04-02T12:19:04.346781Z",
     "start_time": "2022-04-02T12:18:56.474412Z"
    },
    "execution": {
     "iopub.execute_input": "2022-04-05T04:41:10.964632Z",
     "iopub.status.busy": "2022-04-05T04:41:10.963907Z",
     "iopub.status.idle": "2022-04-05T04:41:16.691231Z",
     "shell.execute_reply": "2022-04-05T04:41:16.690540Z",
     "shell.execute_reply.started": "2022-04-05T04:41:10.964578Z"
    }
   },
   "outputs": [],
   "source": [
    "# creating a facet grid with columns \n",
    "plt.figure(figsize=(10,7))\n",
    "grid = sns.FacetGrid(data=dfinal, col='hospital_death', height=4, aspect=1, sharey=False)\n",
    "# mapping bar plot and the data on to the grid\n",
    "grid.map(sns.countplot, 'diabetes_mellitus', palette=['black', 'brown', 'orange'])\n",
    "plt.suptitle(\"countplot for and typr of diabetes_mellitus wrt  hospital_death\", bbox={'facecolor':'0.8','pad':5},fontsize = 14)\n",
    "plt.show()"
   ]
  },
  {
   "cell_type": "markdown",
   "metadata": {},
   "source": [
    "<a name = Section7></a>\n",
    "\n",
    "---\n",
    "# **7. Data Post-Processing**"
   ]
  },
  {
   "cell_type": "markdown",
   "metadata": {},
   "source": [
    "<a name = Section71></a>\n",
    "### **7.1 Data Encoding**\n",
    "\n",
    "- In this section, we will encode our categorical features as necessary and manipulate any column as necessary"
   ]
  },
  {
   "cell_type": "code",
   "execution_count": 50,
   "metadata": {
    "ExecuteTime": {
     "end_time": "2022-04-02T12:19:04.361738Z",
     "start_time": "2022-04-02T12:19:04.350776Z"
    },
    "execution": {
     "iopub.execute_input": "2022-04-05T04:41:18.431885Z",
     "iopub.status.busy": "2022-04-05T04:41:18.431213Z",
     "iopub.status.idle": "2022-04-05T04:41:18.438354Z",
     "shell.execute_reply": "2022-04-05T04:41:18.437555Z",
     "shell.execute_reply.started": "2022-04-05T04:41:18.431845Z"
    }
   },
   "outputs": [],
   "source": [
    "dfinal.columns"
   ]
  },
  {
   "cell_type": "code",
   "execution_count": 51,
   "metadata": {
    "ExecuteTime": {
     "end_time": "2022-04-04T07:56:25.836586Z",
     "start_time": "2022-04-04T07:56:25.815644Z"
    },
    "execution": {
     "iopub.execute_input": "2022-04-05T04:41:22.597312Z",
     "iopub.status.busy": "2022-04-05T04:41:22.596879Z",
     "iopub.status.idle": "2022-04-05T04:41:22.601931Z",
     "shell.execute_reply": "2022-04-05T04:41:22.601255Z",
     "shell.execute_reply.started": "2022-04-05T04:41:22.597273Z"
    }
   },
   "outputs": [],
   "source": [
    "dfinal.shape"
   ]
  },
  {
   "cell_type": "code",
   "execution_count": 52,
   "metadata": {
    "ExecuteTime": {
     "end_time": "2022-04-02T12:19:05.408783Z",
     "start_time": "2022-04-02T12:19:05.112577Z"
    },
    "execution": {
     "iopub.execute_input": "2022-04-05T04:41:25.634551Z",
     "iopub.status.busy": "2022-04-05T04:41:25.633831Z",
     "iopub.status.idle": "2022-04-05T04:41:25.800829Z",
     "shell.execute_reply": "2022-04-05T04:41:25.800018Z",
     "shell.execute_reply.started": "2022-04-05T04:41:25.634503Z"
    }
   },
   "outputs": [],
   "source": [
    "df.head()"
   ]
  },
  {
   "cell_type": "code",
   "execution_count": 63,
   "metadata": {
    "ExecuteTime": {
     "end_time": "2022-04-04T07:56:41.260019Z",
     "start_time": "2022-04-04T07:56:40.815211Z"
    },
    "execution": {
     "iopub.execute_input": "2022-04-05T04:54:40.641228Z",
     "iopub.status.busy": "2022-04-05T04:54:40.640748Z",
     "iopub.status.idle": "2022-04-05T04:54:40.673954Z",
     "shell.execute_reply": "2022-04-05T04:54:40.673293Z",
     "shell.execute_reply.started": "2022-04-05T04:54:40.641190Z"
    }
   },
   "outputs": [],
   "source": [
    "from sklearn.preprocessing import LabelEncoder\n",
    "le = LabelEncoder()\n",
    "for a in fcatcol:    \n",
    "    dfinal[a]= le.fit_transform(dfinal[a])"
   ]
  },
  {
   "cell_type": "code",
   "execution_count": 74,
   "metadata": {
    "execution": {
     "iopub.execute_input": "2022-04-05T05:14:54.719720Z",
     "iopub.status.busy": "2022-04-05T05:14:54.719220Z",
     "iopub.status.idle": "2022-04-05T05:14:54.723426Z",
     "shell.execute_reply": "2022-04-05T05:14:54.722754Z",
     "shell.execute_reply.started": "2022-04-05T05:14:54.719667Z"
    }
   },
   "outputs": [],
   "source": [
    "# Summarize scores\n",
    "np.set_printoptions(precision=3)"
   ]
  },
  {
   "cell_type": "code",
   "execution_count": 64,
   "metadata": {
    "execution": {
     "iopub.execute_input": "2022-04-05T04:54:44.906375Z",
     "iopub.status.busy": "2022-04-05T04:54:44.906024Z",
     "iopub.status.idle": "2022-04-05T04:54:44.910297Z",
     "shell.execute_reply": "2022-04-05T04:54:44.909269Z",
     "shell.execute_reply.started": "2022-04-05T04:54:44.906344Z"
    }
   },
   "outputs": [],
   "source": [
    "num_feats = 40"
   ]
  },
  {
   "cell_type": "code",
   "execution_count": 65,
   "metadata": {
    "execution": {
     "iopub.execute_input": "2022-04-05T04:54:47.330971Z",
     "iopub.status.busy": "2022-04-05T04:54:47.330555Z",
     "iopub.status.idle": "2022-04-05T04:54:47.388637Z",
     "shell.execute_reply": "2022-04-05T04:54:47.387941Z",
     "shell.execute_reply.started": "2022-04-05T04:54:47.330935Z"
    }
   },
   "outputs": [],
   "source": [
    "X = dfinal.drop(columns=['encounter_id','patient_id','hospital_id','hospital_death'], axis=1)\n",
    "y = dfinal['hospital_death']\n",
    "print(X.shape,y.shape)\n"
   ]
  },
  {
   "cell_type": "code",
   "execution_count": 66,
   "metadata": {
    "ExecuteTime": {
     "end_time": "2022-04-02T12:34:46.357987Z",
     "start_time": "2022-04-02T12:33:33.229946Z"
    },
    "execution": {
     "iopub.execute_input": "2022-04-05T04:54:50.624793Z",
     "iopub.status.busy": "2022-04-05T04:54:50.624092Z",
     "iopub.status.idle": "2022-04-05T04:55:26.471650Z",
     "shell.execute_reply": "2022-04-05T04:55:26.470920Z",
     "shell.execute_reply.started": "2022-04-05T04:54:50.624747Z"
    }
   },
   "outputs": [],
   "source": [
    "embeded_rf_selector = SelectFromModel(RandomForestClassifier(n_estimators=100), max_features=num_feats)\n",
    "embeded_rf_selector.fit(X, y)\n",
    "\n",
    "embeded_rf_support = embeded_rf_selector.get_support()\n",
    "embeded_rf_feature = X.loc[:,embeded_rf_support].columns.tolist()\n",
    "print(str(len(embeded_rf_feature)), 'selected features')"
   ]
  },
  {
   "cell_type": "code",
   "execution_count": 67,
   "metadata": {
    "execution": {
     "iopub.execute_input": "2022-04-05T04:55:50.298427Z",
     "iopub.status.busy": "2022-04-05T04:55:50.298168Z",
     "iopub.status.idle": "2022-04-05T04:55:50.304578Z",
     "shell.execute_reply": "2022-04-05T04:55:50.303758Z",
     "shell.execute_reply.started": "2022-04-05T04:55:50.298398Z"
    }
   },
   "outputs": [],
   "source": [
    "print( 'selected features',embeded_rf_feature)"
   ]
  },
  {
   "cell_type": "code",
   "execution_count": 68,
   "metadata": {
    "ExecuteTime": {
     "end_time": "2022-04-04T07:37:57.151646Z",
     "start_time": "2022-04-04T07:37:29.007908Z"
    },
    "execution": {
     "iopub.execute_input": "2022-04-05T04:56:11.961533Z",
     "iopub.status.busy": "2022-04-05T04:56:11.961263Z",
     "iopub.status.idle": "2022-04-05T04:56:38.567032Z",
     "shell.execute_reply": "2022-04-05T04:56:38.566316Z",
     "shell.execute_reply.started": "2022-04-05T04:56:11.961502Z"
    }
   },
   "outputs": [],
   "source": [
    "from sklearn.feature_selection import SelectFromModel               # To select features from model using Yellow bricks\n",
    "from yellowbrick.model_selection import FeatureImportances \n",
    "from sklearn.ensemble import RandomForestClassifier   \n",
    "\n",
    "# Have some patience, may take some time :)\n",
    "selector = SelectFromModel(RandomForestClassifier(n_estimators = 100, random_state = 42, n_jobs = -1))\n",
    "#selector.fit(feature_select, y)\n",
    "selector.fit(X, y)\n",
    "\n",
    "# Extracting list of important features\n",
    "selected_feat = X.columns[(selector.get_support())].tolist()\n",
    "#selected_feat = feature_select.columns[(selector.get_support())].tolist()\n",
    "\n",
    "print('Total Features Selected are', len(selected_feat))\n",
    "\n",
    "# Estimated by taking mean(default) of feature importance\n",
    "print('Threshold set by Model:', np.round(selector.threshold_, decimals = 2))\n",
    "print('Features:', selected_feat)"
   ]
  },
  {
   "cell_type": "code",
   "execution_count": 75,
   "metadata": {
    "ExecuteTime": {
     "end_time": "2022-04-02T12:35:26.619771Z",
     "start_time": "2022-04-02T12:35:07.862767Z"
    },
    "execution": {
     "iopub.execute_input": "2022-04-05T05:15:58.912385Z",
     "iopub.status.busy": "2022-04-05T05:15:58.911791Z",
     "iopub.status.idle": "2022-04-05T05:16:02.131340Z",
     "shell.execute_reply": "2022-04-05T05:16:02.130581Z",
     "shell.execute_reply.started": "2022-04-05T05:15:58.912343Z"
    }
   },
   "outputs": [],
   "source": [
    "#Visualization of Important Features:\n",
    "figure = plt.figure(figsize = [20, 12])\n",
    "\n",
    "# If you don't want relative importance, use relative = False in below method\n",
    "viz = FeatureImportances(selector.estimator, relative = False)\n",
    "\n",
    "#viz.fit(feature_select, y)\n",
    "viz.fit(X, y)\n",
    "\n",
    "importance = viz.feature_importances_ \n",
    "# summarize feature importance\n",
    "# Creating a list of feature names\n",
    "feature_names = X.columns\n",
    "\n",
    "for score, name in sorted(zip(importance, feature_names), reverse=True):\n",
    "    print('Feature Score of', name, ':', score)\n",
    "\n",
    "plt.xlabel('Relative Importance', size = 14)\n",
    "plt.ylabel('Features', size = 14)\n",
    "plt.title(label = 'Feature Importances', size = 16)\n",
    "plt.show()\n"
   ]
  },
  {
   "cell_type": "code",
   "execution_count": 82,
   "metadata": {
    "execution": {
     "iopub.execute_input": "2022-04-05T05:24:26.679617Z",
     "iopub.status.busy": "2022-04-05T05:24:26.679307Z",
     "iopub.status.idle": "2022-04-05T05:24:30.344543Z",
     "shell.execute_reply": "2022-04-05T05:24:30.343855Z",
     "shell.execute_reply.started": "2022-04-05T05:24:26.679583Z"
    }
   },
   "outputs": [],
   "source": [
    "# Plotting the Feature Importance of each feature.\n",
    "plt.figure(figsize=(12, 7))\n",
    "plt.bar(feature_names, importance*100, color='green')\n",
    "plt.xlabel('Features', fontsize=14)\n",
    "plt.ylabel('Importance', fontsize=14)\n",
    "plt.xticks(rotation=90)\n",
    "plt.title('Feature Importance of each Feature', fontsize=16)"
   ]
  },
  {
   "cell_type": "code",
   "execution_count": 71,
   "metadata": {
    "execution": {
     "iopub.execute_input": "2022-04-05T04:58:06.051759Z",
     "iopub.status.busy": "2022-04-05T04:58:06.051479Z",
     "iopub.status.idle": "2022-04-05T04:58:06.057403Z",
     "shell.execute_reply": "2022-04-05T04:58:06.056776Z",
     "shell.execute_reply.started": "2022-04-05T04:58:06.051724Z"
    }
   },
   "outputs": [],
   "source": [
    "viz.features_.argsort()"
   ]
  },
  {
   "cell_type": "code",
   "execution_count": 88,
   "metadata": {
    "execution": {
     "iopub.execute_input": "2022-04-05T05:52:04.800683Z",
     "iopub.status.busy": "2022-04-05T05:52:04.800420Z",
     "iopub.status.idle": "2022-04-05T05:52:04.805645Z",
     "shell.execute_reply": "2022-04-05T05:52:04.804745Z",
     "shell.execute_reply.started": "2022-04-05T05:52:04.800653Z"
    }
   },
   "outputs": [],
   "source": [
    "# Extract impactful columns (large coefs)\n",
    "#lr_coefs = [(col, coef, pos) for pos, (col, coef) in enumerate(zip(X_train.columns[1:], lr.coef_[0]))]\n",
    "#top_ = sorted(lr_coefs, key = lambda x: -abs(x[1]))[:25]\n",
    "#top_columns = [name for name, coef, pos in top_]\n",
    "#top_column_pos = [pos for name, coef, pos in top_]\n",
    "\n",
    "#print(top_columns, \"\\n\")\n",
    "#print(top_column_pos)"
   ]
  },
  {
   "cell_type": "code",
   "execution_count": 86,
   "metadata": {
    "execution": {
     "iopub.execute_input": "2022-04-05T05:51:44.124525Z",
     "iopub.status.busy": "2022-04-05T05:51:44.123984Z",
     "iopub.status.idle": "2022-04-05T05:51:44.154759Z",
     "shell.execute_reply": "2022-04-05T05:51:44.153920Z",
     "shell.execute_reply.started": "2022-04-05T05:51:44.124487Z"
    }
   },
   "outputs": [],
   "source": [
    "X=X.drop(columns=['weight','wbc_apache','ventilated_apache','urineoutput_apache','temp_apache','sodium_apache','resprate_apache','readmission_status',\n",
    "'pre_icu_los_days', 'ph_apache','pao2_apache','paco2_for_ph_apache','paco2_apache','map_apache','intubated_apache','icu_type','icu_stay_type',              \n",
    "'icu_id','icu_admit_source','hospital_admit_source','hematocrit_apache','height','heart_rate_apache','h1_sysbp_max','h1_sysbp_invasive_min',                 \n",
    "'h1_sysbp_invasive_max','h1_spo2_min','h1_spo2_max','h1_resprate_min','h1_resprate_max','h1_mbp_noninvasive_min','h1_mbp_noninvasive_max', \n",
    "'h1_mbp_min','h1_mbp_max','h1_mbp_invasive_min','h1_mbp_invasive_max','h1_heartrate_min','h1_heartrate_max','d1_diasbp_noninvasive_min', \n",
    "'h1_diasbp_noninvasive_max','h1_diasbp_min','h1_diasbp_max','h1_diasbp_invasive_min','h1_diasbp_invasive_max','glucose_apache','gender',\n",
    "'gcs_verbal_apache','gcs_unable_apache','gcs_motor_apache','gcs_eyes_apache','fio2_apache','ethnicity','elective_surgery','d1_temp_min',\n",
    "'d1_temp_max','d1_sysbp_noninvasive_min','d1_sysbp_noninvasive_max','d1_sysbp_min','d1_sysbp_max','d1_sysbp_invasive_min',\n",
    "'d1_sysbp_invasive_max','d1_spo2_min','d1_spo2_max','d1_resprate_min','d1_resprate_max','d1_mbp_noninvasive_min','d1_mbp_noninvasive_max',\n",
    "'d1_mbp_min','d1_mbp_max','d1_mbp_invasive_min','d1_mbp_invasive_max','d1_heartrate_min','d1_heartrate_max','d1_diasbp_noninvasive_min',\n",
    "'d1_diasbp_noninvasive_max','d1_diasbp_min','d1_diasbp_max','d1_diasbp_invasive_min','d1_diasbp_invasive_max','creatinine_apache',\n",
    "'bun_apache','bmi','bilirubin_apache','arf_apache','apache_post_operative','apache_3j_diagnosis','apache_2_diagnosis','albumin_apache','age'],axis=1)"
   ]
  },
  {
   "cell_type": "code",
   "execution_count": 87,
   "metadata": {
    "execution": {
     "iopub.execute_input": "2022-04-05T05:51:50.733161Z",
     "iopub.status.busy": "2022-04-05T05:51:50.732602Z",
     "iopub.status.idle": "2022-04-05T05:51:50.738832Z",
     "shell.execute_reply": "2022-04-05T05:51:50.738159Z",
     "shell.execute_reply.started": "2022-04-05T05:51:50.733124Z"
    }
   },
   "outputs": [],
   "source": [
    "X.columns"
   ]
  },
  {
   "cell_type": "markdown",
   "metadata": {},
   "source": [
    "<a name = Section72></a>\n",
    "### **7.2 Data Preparation**\n",
    "\n",
    "- Now we will **split** our **data** into **dependent** and **independent** variables for further development using holdout validation technique."
   ]
  },
  {
   "cell_type": "code",
   "execution_count": 90,
   "metadata": {
    "ExecuteTime": {
     "end_time": "2022-04-04T07:56:38.995273Z",
     "start_time": "2022-04-04T07:56:38.980314Z"
    },
    "execution": {
     "iopub.execute_input": "2022-04-05T05:53:37.275460Z",
     "iopub.status.busy": "2022-04-05T05:53:37.274974Z",
     "iopub.status.idle": "2022-04-05T05:53:37.282413Z",
     "shell.execute_reply": "2022-04-05T05:53:37.281764Z",
     "shell.execute_reply.started": "2022-04-05T05:53:37.275422Z"
    }
   },
   "outputs": [],
   "source": [
    "y = dfinal['hospital_death']\n",
    "y.head()"
   ]
  },
  {
   "cell_type": "code",
   "execution_count": 91,
   "metadata": {
    "ExecuteTime": {
     "end_time": "2022-04-04T08:18:36.480027Z",
     "start_time": "2022-04-04T08:18:36.458087Z"
    },
    "execution": {
     "iopub.execute_input": "2022-04-05T05:53:46.661516Z",
     "iopub.status.busy": "2022-04-05T05:53:46.660809Z",
     "iopub.status.idle": "2022-04-05T05:53:46.666531Z",
     "shell.execute_reply": "2022-04-05T05:53:46.665732Z",
     "shell.execute_reply.started": "2022-04-05T05:53:46.661480Z"
    }
   },
   "outputs": [],
   "source": [
    "print(X.shape)\n",
    "print(y.shape)"
   ]
  },
  {
   "cell_type": "code",
   "execution_count": 92,
   "metadata": {
    "ExecuteTime": {
     "end_time": "2022-04-04T08:18:39.331153Z",
     "start_time": "2022-04-04T08:18:39.085808Z"
    },
    "execution": {
     "iopub.execute_input": "2022-04-05T05:53:58.072653Z",
     "iopub.status.busy": "2022-04-05T05:53:58.072390Z",
     "iopub.status.idle": "2022-04-05T05:53:58.263401Z",
     "shell.execute_reply": "2022-04-05T05:53:58.261887Z",
     "shell.execute_reply.started": "2022-04-05T05:53:58.072624Z"
    }
   },
   "outputs": [],
   "source": [
    "# Splitting data into training and testing sets with Test Data as 35%\n",
    "X_train, X_test, y_train, y_test = train_test_split(X, y, test_size=0.35, random_state=42)\n",
    "\n",
    "# Display the shape of training and testing data\n",
    "print('X_train shape: ', X_train.shape)\n",
    "print('y_train shape: ', y_train.shape)\n",
    "print('X_test shape: ', X_test.shape)\n",
    "print('y_test shape: ', y_test.shape)"
   ]
  },
  {
   "cell_type": "code",
   "execution_count": null,
   "metadata": {
    "ExecuteTime": {
     "end_time": "2022-04-04T08:03:22.967753Z",
     "start_time": "2022-04-04T08:03:22.889961Z"
    }
   },
   "outputs": [],
   "source": [
    "X_train.head()"
   ]
  },
  {
   "cell_type": "code",
   "execution_count": null,
   "metadata": {
    "ExecuteTime": {
     "end_time": "2022-04-04T08:03:23.929200Z",
     "start_time": "2022-04-04T08:03:23.915236Z"
    }
   },
   "outputs": [],
   "source": [
    "y.head()"
   ]
  },
  {
   "cell_type": "code",
   "execution_count": null,
   "metadata": {},
   "outputs": [],
   "source": [
    "X_train_sample = X_train.sample(100)\n",
    "X_test_sample.head()"
   ]
  },
  {
   "cell_type": "code",
   "execution_count": null,
   "metadata": {},
   "outputs": [],
   "source": [
    "X_test_sample = X_test.sample(100)\n",
    "X_test_sample.head()"
   ]
  },
  {
   "cell_type": "markdown",
   "metadata": {},
   "source": [
    "<a name = Section73></a>\n",
    "### **7.3 Data Scaling**\n",
    "\n",
    "- Now, evaluating model with help of scaling the data."
   ]
  },
  {
   "cell_type": "code",
   "execution_count": 95,
   "metadata": {
    "ExecuteTime": {
     "end_time": "2022-04-04T08:03:27.636285Z",
     "start_time": "2022-04-04T08:03:27.560488Z"
    },
    "execution": {
     "iopub.execute_input": "2022-04-05T06:00:00.100234Z",
     "iopub.status.busy": "2022-04-05T06:00:00.099625Z",
     "iopub.status.idle": "2022-04-05T06:00:00.214520Z",
     "shell.execute_reply": "2022-04-05T06:00:00.213772Z",
     "shell.execute_reply.started": "2022-04-05T06:00:00.100196Z"
    }
   },
   "outputs": [],
   "source": [
    "sc = StandardScaler()\n",
    "X_train = sc.fit_transform(X_train)"
   ]
  },
  {
   "cell_type": "code",
   "execution_count": 96,
   "metadata": {
    "ExecuteTime": {
     "end_time": "2022-04-04T08:03:28.320455Z",
     "start_time": "2022-04-04T08:03:28.285551Z"
    },
    "execution": {
     "iopub.execute_input": "2022-04-05T06:00:04.526454Z",
     "iopub.status.busy": "2022-04-05T06:00:04.526195Z",
     "iopub.status.idle": "2022-04-05T06:00:04.555033Z",
     "shell.execute_reply": "2022-04-05T06:00:04.554295Z",
     "shell.execute_reply.started": "2022-04-05T06:00:04.526425Z"
    }
   },
   "outputs": [],
   "source": [
    "X_test = sc.transform(X_test)"
   ]
  },
  {
   "cell_type": "code",
   "execution_count": 98,
   "metadata": {
    "execution": {
     "iopub.execute_input": "2022-04-05T06:00:33.787297Z",
     "iopub.status.busy": "2022-04-05T06:00:33.787037Z",
     "iopub.status.idle": "2022-04-05T06:00:33.882172Z",
     "shell.execute_reply": "2022-04-05T06:00:33.881552Z",
     "shell.execute_reply.started": "2022-04-05T06:00:33.787267Z"
    }
   },
   "outputs": [],
   "source": [
    "#X_sample = X_train.sample(100)\n",
    "X_sample.head()"
   ]
  },
  {
   "cell_type": "code",
   "execution_count": 99,
   "metadata": {
    "execution": {
     "iopub.execute_input": "2022-04-05T06:00:40.571418Z",
     "iopub.status.busy": "2022-04-05T06:00:40.570881Z",
     "iopub.status.idle": "2022-04-05T06:00:40.662967Z",
     "shell.execute_reply": "2022-04-05T06:00:40.662197Z",
     "shell.execute_reply.started": "2022-04-05T06:00:40.571379Z"
    }
   },
   "outputs": [],
   "source": [
    "#X_test_sample = X_test.sample(100)\n",
    "X_test_sample.head()"
   ]
  },
  {
   "cell_type": "markdown",
   "metadata": {
    "execution": {
     "iopub.execute_input": "2022-04-05T06:39:57.778398Z",
     "iopub.status.busy": "2022-04-05T06:39:57.778107Z",
     "iopub.status.idle": "2022-04-05T06:39:57.783218Z",
     "shell.execute_reply": "2022-04-05T06:39:57.782337Z",
     "shell.execute_reply.started": "2022-04-05T06:39:57.778366Z"
    }
   },
   "source": [
    "<a name = Section8></a>\n",
    "\n",
    "---\n",
    "# **8. Model Development & Evaluation using Deep Learning**\n",
    "---\n",
    "\n",
    "- Here we will develop deep learning model."
   ]
  },
  {
   "cell_type": "code",
   "execution_count": 100,
   "metadata": {
    "ExecuteTime": {
     "end_time": "2022-04-04T08:21:17.235076Z",
     "start_time": "2022-04-04T08:20:32.861962Z"
    },
    "execution": {
     "iopub.execute_input": "2022-04-05T06:01:34.931474Z",
     "iopub.status.busy": "2022-04-05T06:01:34.931214Z",
     "iopub.status.idle": "2022-04-05T06:01:39.391177Z",
     "shell.execute_reply": "2022-04-05T06:01:39.390438Z",
     "shell.execute_reply.started": "2022-04-05T06:01:34.931446Z"
    }
   },
   "outputs": [],
   "source": [
    "#Dependencies\n",
    "import tensorflow as tf\n",
    "import keras\n",
    "from keras.models import Sequential\n",
    "from keras.layers import Dense\n",
    "import sklearn as sk"
   ]
  },
  {
   "cell_type": "code",
   "execution_count": 104,
   "metadata": {
    "ExecuteTime": {
     "end_time": "2022-04-04T08:21:24.318395Z",
     "start_time": "2022-04-04T08:21:22.851860Z"
    },
    "execution": {
     "iopub.execute_input": "2022-04-05T06:03:52.802087Z",
     "iopub.status.busy": "2022-04-05T06:03:52.801594Z",
     "iopub.status.idle": "2022-04-05T06:03:52.841357Z",
     "shell.execute_reply": "2022-04-05T06:03:52.840665Z",
     "shell.execute_reply.started": "2022-04-05T06:03:52.802047Z"
    }
   },
   "outputs": [],
   "source": [
    "# Neural network\n",
    "model = Sequential()\n",
    "model.add(Dense(48, input_dim=94, activation='relu'))\n",
    "model.add(Dense(24, activation='relu'))\n",
    "model.add(Dense(12, activation='relu'))\n",
    "model.add(Dense(1, activation='sigmoid'))"
   ]
  },
  {
   "cell_type": "code",
   "execution_count": 105,
   "metadata": {
    "ExecuteTime": {
     "end_time": "2022-04-04T08:21:51.228102Z",
     "start_time": "2022-04-04T08:21:50.946854Z"
    },
    "execution": {
     "iopub.execute_input": "2022-04-05T06:04:09.650264Z",
     "iopub.status.busy": "2022-04-05T06:04:09.649578Z",
     "iopub.status.idle": "2022-04-05T06:04:09.659284Z",
     "shell.execute_reply": "2022-04-05T06:04:09.658402Z",
     "shell.execute_reply.started": "2022-04-05T06:04:09.650224Z"
    }
   },
   "outputs": [],
   "source": [
    "# Print initial weights\n",
    "weights = model.layers[0].get_weights()\n",
    "w_init = weights[0]\n",
    "b_init = weights[1]\n",
    "print(\"Logistic regression model is initialized with weights - {} and biases - {}\".format(w_init, b_init))"
   ]
  },
  {
   "cell_type": "code",
   "execution_count": 106,
   "metadata": {
    "ExecuteTime": {
     "end_time": "2022-04-04T08:21:54.157267Z",
     "start_time": "2022-04-04T08:21:54.075485Z"
    },
    "execution": {
     "iopub.execute_input": "2022-04-05T06:04:13.873891Z",
     "iopub.status.busy": "2022-04-05T06:04:13.873330Z",
     "iopub.status.idle": "2022-04-05T06:04:13.887952Z",
     "shell.execute_reply": "2022-04-05T06:04:13.887054Z",
     "shell.execute_reply.started": "2022-04-05T06:04:13.873851Z"
    }
   },
   "outputs": [],
   "source": [
    "model.compile(loss='binary_crossentropy', optimizer='adam', metrics=['accuracy'])\n",
    "model.summary()"
   ]
  },
  {
   "cell_type": "markdown",
   "metadata": {},
   "source": [
    "Training step is simple in keras. model.fit is used to train it."
   ]
  },
  {
   "cell_type": "code",
   "execution_count": null,
   "metadata": {
    "ExecuteTime": {
     "start_time": "2022-04-04T08:21:55.910Z"
    },
    "execution": {
     "iopub.execute_input": "2022-04-05T06:04:18.518619Z",
     "iopub.status.busy": "2022-04-05T06:04:18.518357Z"
    }
   },
   "outputs": [],
   "source": [
    "history = model.fit(X_train, y_train, epochs=50, batch_size=200, verbose=1)\n",
    "# Epochs are the number of iterations for training. Verbose can be switched to 0 if you don't want to print \n",
    "# the step-wise training loss. Try it."
   ]
  },
  {
   "cell_type": "code",
   "execution_count": 108,
   "metadata": {
    "execution": {
     "iopub.execute_input": "2022-04-05T06:09:10.812236Z",
     "iopub.status.busy": "2022-04-05T06:09:10.811634Z",
     "iopub.status.idle": "2022-04-05T06:09:10.823567Z",
     "shell.execute_reply": "2022-04-05T06:09:10.822588Z",
     "shell.execute_reply.started": "2022-04-05T06:09:10.812195Z"
    }
   },
   "outputs": [],
   "source": [
    "hist = pd.DataFrame(history.history)\n",
    "hist['epoch'] = history.epoch\n",
    "hist.tail()"
   ]
  },
  {
   "cell_type": "code",
   "execution_count": 109,
   "metadata": {
    "execution": {
     "iopub.execute_input": "2022-04-05T06:09:26.002175Z",
     "iopub.status.busy": "2022-04-05T06:09:26.001910Z",
     "iopub.status.idle": "2022-04-05T06:09:31.562597Z",
     "shell.execute_reply": "2022-04-05T06:09:31.561862Z",
     "shell.execute_reply.started": "2022-04-05T06:09:26.002148Z"
    }
   },
   "outputs": [],
   "source": [
    "# evaluate the keras model\n",
    "_, accuracy = model.evaluate(X_train, y_train)\n",
    "print('Training Accuracy: %.2f' % (accuracy*100))"
   ]
  },
  {
   "cell_type": "code",
   "execution_count": 114,
   "metadata": {
    "execution": {
     "iopub.execute_input": "2022-04-05T06:12:01.101795Z",
     "iopub.status.busy": "2022-04-05T06:12:01.101432Z",
     "iopub.status.idle": "2022-04-05T06:12:02.129139Z",
     "shell.execute_reply": "2022-04-05T06:12:02.128362Z",
     "shell.execute_reply.started": "2022-04-05T06:12:01.101751Z"
    }
   },
   "outputs": [],
   "source": [
    "test_predictions = model.predict(X_test).flatten()"
   ]
  },
  {
   "cell_type": "code",
   "execution_count": 116,
   "metadata": {
    "execution": {
     "iopub.execute_input": "2022-04-05T06:12:38.708292Z",
     "iopub.status.busy": "2022-04-05T06:12:38.708032Z",
     "iopub.status.idle": "2022-04-05T06:12:38.996601Z",
     "shell.execute_reply": "2022-04-05T06:12:38.995897Z",
     "shell.execute_reply.started": "2022-04-05T06:12:38.708262Z"
    }
   },
   "outputs": [],
   "source": [
    "a = plt.axes(aspect='equal')\n",
    "plt.scatter(y_test, test_predictions)\n",
    "plt.xlabel('True Values')\n",
    "plt.ylabel('Predictions')\n",
    "lims = [0, 50]\n",
    "plt.xlim(lims)\n",
    "plt.ylim(lims)\n",
    "_ = plt.plot(lims, lims)"
   ]
  },
  {
   "cell_type": "code",
   "execution_count": 110,
   "metadata": {
    "execution": {
     "iopub.execute_input": "2022-04-05T06:10:18.170362Z",
     "iopub.status.busy": "2022-04-05T06:10:18.170102Z",
     "iopub.status.idle": "2022-04-05T06:10:18.394424Z",
     "shell.execute_reply": "2022-04-05T06:10:18.393759Z",
     "shell.execute_reply.started": "2022-04-05T06:10:18.170333Z"
    }
   },
   "outputs": [],
   "source": [
    "import matplotlib.pyplot as plt\n",
    "plt.plot(history.history['accuracy'])\n",
    "plt.title('Model accuracy')\n",
    "plt.ylabel('Train Accuracy')\n",
    "plt.xlabel('Epoch')\n",
    "plt.legend(['Train'], loc='upper left')\n",
    "plt.show()"
   ]
  },
  {
   "cell_type": "code",
   "execution_count": 111,
   "metadata": {
    "execution": {
     "iopub.execute_input": "2022-04-05T06:10:23.701898Z",
     "iopub.status.busy": "2022-04-05T06:10:23.701205Z",
     "iopub.status.idle": "2022-04-05T06:10:23.950551Z",
     "shell.execute_reply": "2022-04-05T06:10:23.949330Z",
     "shell.execute_reply.started": "2022-04-05T06:10:23.701859Z"
    }
   },
   "outputs": [],
   "source": [
    "import matplotlib.pyplot as plt\n",
    "plt.plot(history.history['loss'])\n",
    "plt.title('Model Loss')\n",
    "plt.ylabel('Loss')\n",
    "plt.xlabel('Epoch')\n",
    "plt.legend(['Train'], loc='upper left')\n",
    "plt.show()"
   ]
  },
  {
   "cell_type": "code",
   "execution_count": 112,
   "metadata": {
    "execution": {
     "iopub.execute_input": "2022-04-05T06:10:35.044454Z",
     "iopub.status.busy": "2022-04-05T06:10:35.044172Z",
     "iopub.status.idle": "2022-04-05T06:10:35.417951Z",
     "shell.execute_reply": "2022-04-05T06:10:35.416837Z",
     "shell.execute_reply.started": "2022-04-05T06:10:35.044422Z"
    }
   },
   "outputs": [],
   "source": [
    "print('\\nTesting ------------')\n",
    "cost = model.evaluate(X_test, y_test, batch_size=400)\n",
    "print('test cost:', cost)\n",
    "weights = model.layers[0].get_weights()\n",
    "W = weights[0]\n",
    "b = weights[1]\n",
    "print('Weights=', W, '\\nbiases=', b)"
   ]
  },
  {
   "cell_type": "code",
   "execution_count": 113,
   "metadata": {
    "execution": {
     "iopub.execute_input": "2022-04-05T06:10:39.413270Z",
     "iopub.status.busy": "2022-04-05T06:10:39.413012Z",
     "iopub.status.idle": "2022-04-05T06:10:42.377815Z",
     "shell.execute_reply": "2022-04-05T06:10:42.377164Z",
     "shell.execute_reply.started": "2022-04-05T06:10:39.413241Z"
    }
   },
   "outputs": [],
   "source": [
    "import matplotlib.pyplot as plt\n",
    "_, accuracy = model.evaluate(X_test, y_test)\n",
    "plt.plot(history.history['accuracy'])\n",
    "plt.title('Model accuracy')\n",
    "plt.ylabel('Test Accuracy')\n",
    "plt.xlabel('Epoch')\n",
    "plt.legend(['Test data'], loc='upper left')\n",
    "plt.show()"
   ]
  },
  {
   "cell_type": "code",
   "execution_count": null,
   "metadata": {
    "ExecuteTime": {
     "end_time": "2022-04-04T08:15:17.246409Z",
     "start_time": "2022-04-04T08:15:11.338207Z"
    }
   },
   "outputs": [],
   "source": [
    "# transform the dataset\n",
    "oversample = SMOTE()\n",
    "X, y = oversample.fit_resample(X, y)\n",
    "# summarize distribution\n",
    "counter = Counter(y)\n",
    "for k, v in counter.items():\n",
    "    per = v / len(y) * 100\n",
    "    print('Class=%d, n=%d (%.3f%%)' % (k, v, per))\n",
    "# plot the distribution\n",
    "plt.bar(counter.keys(), counter.values())\n",
    "plt.show()"
   ]
  },
  {
   "cell_type": "markdown",
   "metadata": {},
   "source": [
    "<a name = Section9></a>\n",
    "\n",
    "---\n",
    "# **9. Saving and loading the keras model**\n",
    "---\n",
    "\n",
    "- In this section we will **see how to save and load the model**"
   ]
  },
  {
   "cell_type": "code",
   "execution_count": 117,
   "metadata": {
    "ExecuteTime": {
     "end_time": "2022-04-04T08:20:16.697567Z",
     "start_time": "2022-04-04T08:20:16.668645Z"
    },
    "execution": {
     "iopub.execute_input": "2022-04-05T06:13:42.326470Z",
     "iopub.status.busy": "2022-04-05T06:13:42.326203Z",
     "iopub.status.idle": "2022-04-05T06:13:42.363646Z",
     "shell.execute_reply": "2022-04-05T06:13:42.362964Z",
     "shell.execute_reply.started": "2022-04-05T06:13:42.326440Z"
    }
   },
   "outputs": [],
   "source": [
    "# saving the model\n",
    "model.save('../model/keras_model.h5')"
   ]
  },
  {
   "cell_type": "code",
   "execution_count": 118,
   "metadata": {
    "execution": {
     "iopub.execute_input": "2022-04-05T06:14:17.634281Z",
     "iopub.status.busy": "2022-04-05T06:14:17.633700Z",
     "iopub.status.idle": "2022-04-05T06:14:17.726844Z",
     "shell.execute_reply": "2022-04-05T06:14:17.726129Z",
     "shell.execute_reply.started": "2022-04-05T06:14:17.634224Z"
    }
   },
   "outputs": [],
   "source": [
    "#loading the model \n",
    "from keras.models import load_model\n",
    "model = load_model('../model/keras_model.h5')"
   ]
  },
  {
   "cell_type": "markdown",
   "metadata": {},
   "source": [
    "<a name = Section10></a>\n",
    "\n",
    "---\n",
    "# **10. Explainable AI**\n",
    "---\n",
    "\n",
    "- In this section we will **use AI with the model**"
   ]
  },
  {
   "cell_type": "code",
   "execution_count": 120,
   "metadata": {
    "ExecuteTime": {
     "end_time": "2022-04-04T08:19:45.334845Z",
     "start_time": "2022-04-04T08:19:44.994757Z"
    },
    "execution": {
     "iopub.execute_input": "2022-04-05T06:14:33.221695Z",
     "iopub.status.busy": "2022-04-05T06:14:33.221446Z",
     "iopub.status.idle": "2022-04-05T06:14:33.315250Z",
     "shell.execute_reply": "2022-04-05T06:14:33.314579Z",
     "shell.execute_reply.started": "2022-04-05T06:14:33.221666Z"
    }
   },
   "outputs": [],
   "source": [
    "#X_sample = X_train.sample(100)\n",
    "X_sample.head()"
   ]
  },
  {
   "cell_type": "code",
   "execution_count": 121,
   "metadata": {
    "ExecuteTime": {
     "end_time": "2022-04-04T08:19:50.892981Z",
     "start_time": "2022-04-04T08:19:50.515991Z"
    },
    "execution": {
     "iopub.execute_input": "2022-04-05T06:14:39.616980Z",
     "iopub.status.busy": "2022-04-05T06:14:39.616482Z",
     "iopub.status.idle": "2022-04-05T06:14:39.806545Z",
     "shell.execute_reply": "2022-04-05T06:14:39.805742Z",
     "shell.execute_reply.started": "2022-04-05T06:14:39.616941Z"
    }
   },
   "outputs": [],
   "source": [
    "#X_test_sample  = X_test.sample(100)\n",
    "X_test_sample.head()"
   ]
  },
  {
   "cell_type": "code",
   "execution_count": 126,
   "metadata": {
    "ExecuteTime": {
     "start_time": "2022-04-04T08:22:42.796Z"
    },
    "execution": {
     "iopub.execute_input": "2022-04-05T06:19:38.055118Z",
     "iopub.status.busy": "2022-04-05T06:19:38.054656Z",
     "iopub.status.idle": "2022-04-05T06:22:20.883569Z",
     "shell.execute_reply": "2022-04-05T06:22:20.878859Z",
     "shell.execute_reply.started": "2022-04-05T06:19:38.055074Z"
    }
   },
   "outputs": [],
   "source": [
    "import shap\n",
    "shap.initjs()\n",
    "explainer = shap.KernelExplainer(model,X_sample)\n",
    "shap_values = explainer.shap_values(X_test_sample)"
   ]
  },
  {
   "cell_type": "code",
   "execution_count": 127,
   "metadata": {
    "execution": {
     "iopub.execute_input": "2022-04-05T06:22:37.774839Z",
     "iopub.status.busy": "2022-04-05T06:22:37.774570Z",
     "iopub.status.idle": "2022-04-05T06:22:38.155291Z",
     "shell.execute_reply": "2022-04-05T06:22:38.154581Z",
     "shell.execute_reply.started": "2022-04-05T06:22:37.774808Z"
    }
   },
   "outputs": [],
   "source": [
    "shap.summary_plot(shap_values, X_test_sample, plot_type=\"bar\")"
   ]
  },
  {
   "cell_type": "code",
   "execution_count": 128,
   "metadata": {
    "execution": {
     "iopub.execute_input": "2022-04-05T06:22:47.916458Z",
     "iopub.status.busy": "2022-04-05T06:22:47.916203Z",
     "iopub.status.idle": "2022-04-05T06:22:48.359244Z",
     "shell.execute_reply": "2022-04-05T06:22:48.358575Z",
     "shell.execute_reply.started": "2022-04-05T06:22:47.916428Z"
    }
   },
   "outputs": [],
   "source": [
    "shap.summary_plot(shap_values, X_test_sample, max_display=30)"
   ]
  },
  {
   "cell_type": "code",
   "execution_count": 129,
   "metadata": {
    "execution": {
     "iopub.execute_input": "2022-04-05T06:23:00.174390Z",
     "iopub.status.busy": "2022-04-05T06:23:00.174109Z",
     "iopub.status.idle": "2022-04-05T06:23:00.180234Z",
     "shell.execute_reply": "2022-04-05T06:23:00.179516Z",
     "shell.execute_reply.started": "2022-04-05T06:23:00.174356Z"
    }
   },
   "outputs": [],
   "source": [
    "print(shap_values)"
   ]
  },
  {
   "cell_type": "code",
   "execution_count": 130,
   "metadata": {
    "execution": {
     "iopub.execute_input": "2022-04-05T06:23:39.558335Z",
     "iopub.status.busy": "2022-04-05T06:23:39.557576Z",
     "iopub.status.idle": "2022-04-05T06:23:39.729659Z",
     "shell.execute_reply": "2022-04-05T06:23:39.728915Z",
     "shell.execute_reply.started": "2022-04-05T06:23:39.558296Z"
    }
   },
   "outputs": [],
   "source": [
    "shap.initjs()\n",
    "shap.force_plot(explainer.expected_value[0], shap_values[0][:], X_test_sample)"
   ]
  },
  {
   "cell_type": "code",
   "execution_count": 145,
   "metadata": {
    "execution": {
     "iopub.execute_input": "2022-04-05T06:31:45.197547Z",
     "iopub.status.busy": "2022-04-05T06:31:45.197001Z",
     "iopub.status.idle": "2022-04-05T06:31:46.563693Z",
     "shell.execute_reply": "2022-04-05T06:31:46.562940Z",
     "shell.execute_reply.started": "2022-04-05T06:31:45.197509Z"
    }
   },
   "outputs": [],
   "source": [
    "test_predictions = model.predict(X_test)\n",
    "print(test_predictions[50])"
   ]
  },
  {
   "cell_type": "code",
   "execution_count": 139,
   "metadata": {
    "execution": {
     "iopub.execute_input": "2022-04-05T06:27:32.562536Z",
     "iopub.status.busy": "2022-04-05T06:27:32.561802Z",
     "iopub.status.idle": "2022-04-05T06:27:33.247354Z",
     "shell.execute_reply": "2022-04-05T06:27:33.246577Z",
     "shell.execute_reply.started": "2022-04-05T06:27:32.562498Z"
    }
   },
   "outputs": [],
   "source": [
    "shap.decision_plot(explainer.expected_value[0], shap_values[0][0], features = X_test_sample.iloc[0,:], feature_names = X_test_sample.columns.tolist())"
   ]
  },
  {
   "cell_type": "code",
   "execution_count": 140,
   "metadata": {
    "execution": {
     "iopub.execute_input": "2022-04-05T06:28:15.871357Z",
     "iopub.status.busy": "2022-04-05T06:28:15.870723Z",
     "iopub.status.idle": "2022-04-05T06:28:15.890102Z",
     "shell.execute_reply": "2022-04-05T06:28:15.889480Z",
     "shell.execute_reply.started": "2022-04-05T06:28:15.871305Z"
    }
   },
   "outputs": [],
   "source": [
    "shap.initjs()\n",
    "shap.force_plot(explainer.expected_value[0], shap_values[0][0], X_test_sample.iloc[0,:])"
   ]
  },
  {
   "cell_type": "code",
   "execution_count": 143,
   "metadata": {
    "execution": {
     "iopub.execute_input": "2022-04-05T06:31:22.488444Z",
     "iopub.status.busy": "2022-04-05T06:31:22.487700Z",
     "iopub.status.idle": "2022-04-05T06:31:22.505603Z",
     "shell.execute_reply": "2022-04-05T06:31:22.504919Z",
     "shell.execute_reply.started": "2022-04-05T06:31:22.488404Z"
    }
   },
   "outputs": [],
   "source": [
    "shap.initjs()\n",
    "i=13\n",
    "print(test_predictions[i])\n",
    "shap.force_plot(explainer.expected_value[0], shap_values[0][i], X_test_sample.values[i], feature_names = X_test_sample.columns)"
   ]
  },
  {
   "cell_type": "code",
   "execution_count": 146,
   "metadata": {
    "execution": {
     "iopub.execute_input": "2022-04-05T06:35:00.090444Z",
     "iopub.status.busy": "2022-04-05T06:35:00.090171Z",
     "iopub.status.idle": "2022-04-05T06:35:00.801359Z",
     "shell.execute_reply": "2022-04-05T06:35:00.800562Z",
     "shell.execute_reply.started": "2022-04-05T06:35:00.090416Z"
    }
   },
   "outputs": [],
   "source": [
    "print(test_predictions[10])\n",
    "row = 10\n",
    "\n",
    "shap.plots._waterfall.waterfall_legacy(explainer.expected_value[0], shap_values[0][row], feature_names = X_test_sample.columns)"
   ]
  },
  {
   "cell_type": "code",
   "execution_count": 147,
   "metadata": {
    "execution": {
     "iopub.execute_input": "2022-04-05T06:36:15.793579Z",
     "iopub.status.busy": "2022-04-05T06:36:15.793285Z",
     "iopub.status.idle": "2022-04-05T06:36:15.800568Z",
     "shell.execute_reply": "2022-04-05T06:36:15.799577Z",
     "shell.execute_reply.started": "2022-04-05T06:36:15.793540Z"
    }
   },
   "outputs": [],
   "source": [
    "#shap.plots.heatmap(shap.TreeExplainer(model, data=X_test_sample)(X_test_sample[10][:10]), max_display=14)"
   ]
  },
  {
   "cell_type": "markdown",
   "metadata": {},
   "source": [
    "<a name = Section11></a>\n",
    "\n",
    "---\n",
    "# **11. Hyperparameter Tuning for Deep learning model**\n",
    "---\n",
    "\n",
    "- In this section we will **tune the models**\n",
    "\n",
    "- Then we will **analyze the results to obtain max accuracy** obtained and **make our observations**.\n",
    "\n",
    "- For **evaluation purpose** we will **focus** on **Accuracy Score** score as required by this project."
   ]
  },
  {
   "cell_type": "code",
   "execution_count": 172,
   "metadata": {
    "execution": {
     "iopub.execute_input": "2022-04-05T07:20:36.280332Z",
     "iopub.status.busy": "2022-04-05T07:20:36.279620Z",
     "iopub.status.idle": "2022-04-05T07:20:36.284377Z",
     "shell.execute_reply": "2022-04-05T07:20:36.283646Z",
     "shell.execute_reply.started": "2022-04-05T07:20:36.280294Z"
    }
   },
   "outputs": [],
   "source": [
    "import kerastuner as kt\n",
    "from kerastuner import HyperModel\n",
    "from sklearn.preprocessing import StandardScaler\n",
    "from tensorflow.keras import models, layers"
   ]
  },
  {
   "cell_type": "code",
   "execution_count": 173,
   "metadata": {
    "execution": {
     "iopub.execute_input": "2022-04-05T07:20:43.698254Z",
     "iopub.status.busy": "2022-04-05T07:20:43.697619Z",
     "iopub.status.idle": "2022-04-05T07:20:43.707477Z",
     "shell.execute_reply": "2022-04-05T07:20:43.706784Z",
     "shell.execute_reply.started": "2022-04-05T07:20:43.698212Z"
    }
   },
   "outputs": [],
   "source": [
    "class RegressionHyperModel(HyperModel):\n",
    "    def __init__(self, input_shape):\n",
    "        self.input_shape = input_shape\n",
    "    def build(self, hp):\n",
    "        model = Sequential()\n",
    "        model.add(\n",
    "            layers.Dense(\n",
    "                units=hp.Int('units', 8, 64, 4, default=8),\n",
    "                activation=hp.Choice(\n",
    "                    'dense_activation',\n",
    "                    values=['relu', 'tanh', 'sigmoid'],\n",
    "                    default='relu'),\n",
    "                    #default='sigmoid'),\n",
    "                input_shape=input_shape\n",
    "            )\n",
    "        )\n",
    "        \n",
    "        model.add(\n",
    "            layers.Dense(\n",
    "                units=hp.Int('units', 16, 64, 4, default=16),\n",
    "                activation=hp.Choice(\n",
    "                    'dense_activation',\n",
    "                    values=['relu', 'tanh', 'sigmoid'],\n",
    "                    default='sigmoid')\n",
    "            )\n",
    "        )\n",
    "        \n",
    "        model.add(\n",
    "            layers.Dropout(\n",
    "                hp.Float(\n",
    "                    'dropout',\n",
    "                    min_value=0.0,\n",
    "                    max_value=0.1,\n",
    "                    default=0.005,\n",
    "                    step=0.01)\n",
    "            )\n",
    "        )\n",
    "        \n",
    "        model.add(layers.Dense(1))\n",
    "        \n",
    "        model.compile(\n",
    "            optimizer='adam',loss='binary_crossentropy',metrics=['accuracy']\n",
    "        )\n",
    "        \n",
    "        return model"
   ]
  },
  {
   "cell_type": "code",
   "execution_count": 174,
   "metadata": {
    "execution": {
     "iopub.execute_input": "2022-04-05T07:20:54.303468Z",
     "iopub.status.busy": "2022-04-05T07:20:54.303186Z",
     "iopub.status.idle": "2022-04-05T07:20:54.309326Z",
     "shell.execute_reply": "2022-04-05T07:20:54.306877Z",
     "shell.execute_reply.started": "2022-04-05T07:20:54.303435Z"
    }
   },
   "outputs": [],
   "source": [
    "input_shape = (X_train.shape[1],)\n",
    "hypermodel = RegressionHyperModel(input_shape)"
   ]
  },
  {
   "cell_type": "code",
   "execution_count": 175,
   "metadata": {
    "execution": {
     "iopub.execute_input": "2022-04-05T07:20:58.550432Z",
     "iopub.status.busy": "2022-04-05T07:20:58.550174Z",
     "iopub.status.idle": "2022-04-05T07:20:58.578530Z",
     "shell.execute_reply": "2022-04-05T07:20:58.577540Z",
     "shell.execute_reply.started": "2022-04-05T07:20:58.550403Z"
    }
   },
   "outputs": [],
   "source": [
    "tuner_rs = RandomSearch(\n",
    "            hypermodel,\n",
    "            objective='accuracy',\n",
    "            seed=42,\n",
    "            max_trials=10,\n",
    "            executions_per_trial=2)"
   ]
  },
  {
   "cell_type": "code",
   "execution_count": 171,
   "metadata": {
    "execution": {
     "iopub.execute_input": "2022-04-05T07:18:47.864307Z",
     "iopub.status.busy": "2022-04-05T07:18:47.863763Z",
     "iopub.status.idle": "2022-04-05T07:18:47.891216Z",
     "shell.execute_reply": "2022-04-05T07:18:47.890187Z",
     "shell.execute_reply.started": "2022-04-05T07:18:47.864266Z"
    }
   },
   "outputs": [],
   "source": [
    "tuner_rs.search(x_train_scaled, y_train, epochs=10, validation_split=0.2, verbose=0)"
   ]
  },
  {
   "cell_type": "code",
   "execution_count": null,
   "metadata": {},
   "outputs": [],
   "source": [
    "best_model = tuner_rs.get_best_models(num_models=1)[0]\n",
    "loss, accuracy = best_model.evaluate(x_test_scaled, y_test)"
   ]
  },
  {
   "cell_type": "markdown",
   "metadata": {},
   "source": [
    "<a name = Section12></a>\n",
    "\n",
    "---\n",
    "# **12. Model Development & Evaluation using Logistic Regression**\n",
    "---\n",
    "\n",
    "- In this section we will **develop a Logistic Regression model**\n",
    "\n",
    "- Then we will **analyze the results** obtained and **make our observations**.\n",
    "\n",
    "- For **evaluation purpose** we will **focus** on **Accuracy Score** score as required by this project."
   ]
  },
  {
   "cell_type": "markdown",
   "metadata": {},
   "source": [
    "<a name = Section121></a>\n",
    "### **12.1 Baseline Model Development & Evaluation**\n",
    "\n",
    "- Here we will develop Logistic Regression classification model using default setting."
   ]
  },
  {
   "cell_type": "code",
   "execution_count": null,
   "metadata": {
    "ExecuteTime": {
     "end_time": "2022-04-02T12:35:29.942259Z",
     "start_time": "2022-04-02T12:35:27.629981Z"
    }
   },
   "outputs": [],
   "source": [
    "# Instantiate a Logistic Regression\n",
    "logreg = LogisticRegression()\n",
    "logreg.fit(X_train,y_train)\n",
    "\n",
    "# Predicting training and testing labels\n",
    "y_train_pred_count = logreg.predict(X_train)\n",
    "y_test_pred_count = logreg.predict(X_test)\n",
    "\n",
    "# Plotting confusion maxtrix of train and test data\n",
    "fig, (ax1, ax2) = plt.subplots(nrows=1, ncols=2, sharex=False, figsize=(15, 7))\n",
    "plot_confusion_matrix(estimator=logreg, X=X_train, y_true=y_train, values_format='.5g', cmap='YlGnBu', ax=ax1)\n",
    "plot_confusion_matrix(estimator=logreg, X=X_test, y_true=y_test, values_format='.5g', cmap='YlGnBu', ax=ax2)\n",
    "ax1.set_title(label='Training Data', size=14)\n",
    "ax2.set_title(label='Validation Test Data', size=14)\n",
    "plt.suptitle(t='Confusion Matrix', size=16)\n",
    "plt.show()"
   ]
  },
  {
   "cell_type": "code",
   "execution_count": null,
   "metadata": {
    "ExecuteTime": {
     "end_time": "2022-04-02T12:35:30.903489Z",
     "start_time": "2022-04-02T12:35:29.945373Z"
    }
   },
   "outputs": [],
   "source": [
    "a = plt.axes(aspect='equal')\n",
    "plt.scatter(y_test, y_test_pred_count)\n",
    "plt.xlabel('True Values [accident_severity]')\n",
    "plt.ylabel('Predictions [accident_severity]')\n",
    "lims = [0, 50]\n",
    "plt.xlim(lims)\n",
    "plt.ylim(lims)\n",
    "_ = plt.plot(lims, lims)"
   ]
  },
  {
   "cell_type": "code",
   "execution_count": null,
   "metadata": {
    "ExecuteTime": {
     "end_time": "2022-04-02T12:35:30.934988Z",
     "start_time": "2022-04-02T12:35:30.908003Z"
    }
   },
   "outputs": [],
   "source": [
    "confusion_matrix = pd.DataFrame(confusion_matrix(y_test, y_test_pred_count))"
   ]
  },
  {
   "cell_type": "code",
   "execution_count": null,
   "metadata": {
    "ExecuteTime": {
     "end_time": "2022-04-02T12:35:31.120885Z",
     "start_time": "2022-04-02T12:35:30.940078Z"
    }
   },
   "outputs": [],
   "source": [
    "confusion_matrix.index = ['Actual 0','Actual 1']\n",
    "confusion_matrix.columns = ['Predicted 0','Predicted 1']\n",
    "print(confusion_matrix)"
   ]
  },
  {
   "cell_type": "code",
   "execution_count": null,
   "metadata": {
    "ExecuteTime": {
     "end_time": "2022-04-02T12:35:31.307281Z",
     "start_time": "2022-04-02T12:35:31.125822Z"
    }
   },
   "outputs": [],
   "source": [
    "print('Accuracy score for test validation data is:', accuracy_score(y_test,y_test_pred_count))"
   ]
  },
  {
   "cell_type": "code",
   "execution_count": null,
   "metadata": {
    "ExecuteTime": {
     "end_time": "2022-04-02T12:35:31.803040Z",
     "start_time": "2022-04-02T12:35:31.312267Z"
    }
   },
   "outputs": [],
   "source": [
    "train_report = classification_report(y_train, y_train_pred_count)\n",
    "test_report = classification_report(y_test, y_test_pred_count)\n",
    "print('                    Training Data Report          ')\n",
    "print(train_report)\n",
    "print('                    Test Validation Data Report           ')\n",
    "print(test_report)"
   ]
  },
  {
   "cell_type": "code",
   "execution_count": null,
   "metadata": {
    "ExecuteTime": {
     "end_time": "2022-04-02T12:35:32.020161Z",
     "start_time": "2022-04-02T12:35:31.808676Z"
    }
   },
   "outputs": [],
   "source": [
    "# Class count\n",
    "count_class_0, count_class_1= df['hospital_death'].value_counts()\n",
    "\n",
    "# Divide by class\n",
    "df_class_0 = df[df['hospital_death'] == 0]\n",
    "df_class_1 = df[df['hospital_death'] == 1]"
   ]
  },
  {
   "cell_type": "code",
   "execution_count": null,
   "metadata": {
    "ExecuteTime": {
     "end_time": "2022-04-02T12:35:32.051271Z",
     "start_time": "2022-04-02T12:35:32.024995Z"
    }
   },
   "outputs": [],
   "source": [
    "df['hospital_death'].value_counts()"
   ]
  },
  {
   "cell_type": "markdown",
   "metadata": {},
   "source": [
    "<a name = Section13></a>\n",
    "\n",
    "---\n",
    "# **13. Hyperparameter Tuning**\n",
    "---\n",
    "\n",
    "- In this section we will **tune the models**\n",
    "\n",
    "- Then we will **analyze the results to obtain max accuracy** obtained and **make our observations**.\n",
    "\n",
    "- For **evaluation purpose** we will **focus** on **Accuracy Score** score as required by this project."
   ]
  },
  {
   "cell_type": "code",
   "execution_count": null,
   "metadata": {
    "ExecuteTime": {
     "end_time": "2022-04-02T12:36:01.198284Z",
     "start_time": "2022-04-02T12:35:48.696121Z"
    }
   },
   "outputs": [],
   "source": [
    "model = XGBClassifier()\n",
    "model.fit(X_train, y_train)\n",
    "y_pred = model.predict(X_test)\n",
    "\n",
    "accuracy = accuracy_score(y_test, y_pred)\n",
    "print(\"Accuracy: %.2f%%\" % (accuracy * 100.0))"
   ]
  },
  {
   "cell_type": "code",
   "execution_count": null,
   "metadata": {
    "ExecuteTime": {
     "end_time": "2022-04-02T12:36:04.982164Z",
     "start_time": "2022-04-02T12:36:01.204851Z"
    }
   },
   "outputs": [],
   "source": [
    "# K Fold\n",
    "kf = KFold(shuffle=True, n_splits=5)\n",
    "cv_results_kfold = cross_val_score(logreg,X_train, y_train, cv=kf, scoring='accuracy')\n",
    "print(cv_results_kfold)\n",
    "\n",
    "# Stratified K fold\n",
    "skf = StratifiedKFold(shuffle=True, n_splits=5)\n",
    "cv_results_skfold = cross_val_score(logreg, X_train, y_train, cv=skf, scoring='accuracy')\n",
    "print(cv_results_skfold)"
   ]
  },
  {
   "cell_type": "markdown",
   "metadata": {},
   "source": [
    "**NOTE**: \n",
    "We can start off by tuning the number of neighbors for KNN. The default number of neighbors\n",
    "is 7. Below we try all odd values of k from 1 to 21, covering the default value of 7. Each k value\n",
    "is evaluated using 10-fold cross validation on the training standardized dataset"
   ]
  },
  {
   "cell_type": "code",
   "execution_count": null,
   "metadata": {
    "ExecuteTime": {
     "end_time": "2022-04-02T13:08:55.120995Z",
     "start_time": "2022-04-02T12:36:04.990146Z"
    }
   },
   "outputs": [],
   "source": [
    "num_folds = 10\n",
    "seed = 7\n",
    "scoring = 'accuracy'\n",
    "neighbors = [1,3,5,7,9,11,13,15,17,19,21]\n",
    "param_grid = dict(n_neighbors=neighbors)\n",
    "model = KNeighborsClassifier()\n",
    "kfold = KFold(n_splits=num_folds, random_state=seed, shuffle= True)\n",
    "grid = GridSearchCV(estimator=model, param_grid=param_grid, scoring=scoring, cv=kfold)\n",
    "grid_result = grid.fit(X_train, y_train)\n",
    "print(\"Best: %f using %s\" % (grid_result.best_score_, grid_result.best_params_))\n",
    "\n",
    "means = grid_result.cv_results_['mean_test_score']\n",
    "stds = grid_result.cv_results_['std_test_score']\n",
    "params = grid_result.cv_results_['params']\n",
    "for mean, stdev, param in zip(means, stds, params):\n",
    "    print(\"%f (%f) with: %r\" % (mean, stdev, param))"
   ]
  },
  {
   "cell_type": "markdown",
   "metadata": {},
   "source": [
    "Another way that we can improve the performance of algorithms on this problem is by using\n",
    "ensemble methods. In this section we will evaluate four different ensemble machine learning\n",
    "algorithms, two boosting and two bagging methods:\n",
    "- Boosting Methods: AdaBoost (AB) and Gradient Boosting (GBM).\n",
    "- Bagging Methods: Random Forests (RF) and Extra Trees (ET)."
   ]
  },
  {
   "cell_type": "code",
   "execution_count": null,
   "metadata": {
    "ExecuteTime": {
     "end_time": "2022-04-02T13:22:12.737255Z",
     "start_time": "2022-04-02T13:08:55.161410Z"
    }
   },
   "outputs": [],
   "source": [
    "# ensembles\n",
    "ensembles = []\n",
    "ensembles.append(('AB', AdaBoostClassifier()))\n",
    "ensembles.append(('GBM', GradientBoostingClassifier()))\n",
    "ensembles.append(('RF', RandomForestClassifier()))\n",
    "ensembles.append(('ET', ExtraTreesClassifier()))\n",
    "results = []\n",
    "names = []\n",
    "for name, model in ensembles:\n",
    "    kfold = KFold(n_splits=num_folds, random_state=seed, shuffle = True)\n",
    "    cv_results = cross_val_score(model, X_train, y_train, cv=kfold, scoring=scoring)\n",
    "    results.append(cv_results)\n",
    "    names.append(name)\n",
    "    msg = \"%s: %f (%f)\" % (name, cv_results.mean(), cv_results.std())\n",
    "    print(msg)\n"
   ]
  },
  {
   "cell_type": "code",
   "execution_count": null,
   "metadata": {
    "ExecuteTime": {
     "end_time": "2022-04-02T13:22:13.977056Z",
     "start_time": "2022-04-02T13:22:12.742082Z"
    }
   },
   "outputs": [],
   "source": [
    "# Compare Algorithms\n",
    "fig = plt.figure()\n",
    "fig.suptitle('Ensemble Algorithm Comparison')\n",
    "ax = fig.add_subplot(111)\n",
    "plt.boxplot(results)\n",
    "ax.set_xticklabels(names)\n",
    "plt.show()"
   ]
  },
  {
   "cell_type": "code",
   "execution_count": null,
   "metadata": {
    "ExecuteTime": {
     "end_time": "2022-04-02T13:32:13.224417Z",
     "start_time": "2022-04-02T13:22:13.982938Z"
    }
   },
   "outputs": [],
   "source": [
    "model = SVC(C=1.5)\n",
    "model.fit(X_train, y_train)\n",
    "ypredictions = model.predict(X_test)\n",
    "print(accuracy_score(y_test, ypredictions))\n",
    "#print(confusion_matrix(y_test, ypredictions))\n",
    "print(classification_report(y_test, ypredictions))\n"
   ]
  }
 ],
 "metadata": {
  "kernelspec": {
   "display_name": "Python 3",
   "language": "python",
   "name": "python3"
  },
  "language_info": {
   "codemirror_mode": {
    "name": "ipython",
    "version": 3
   },
   "file_extension": ".py",
   "mimetype": "text/x-python",
   "name": "python",
   "nbconvert_exporter": "python",
   "pygments_lexer": "ipython3",
   "version": "3.8.8"
  },
  "latex_envs": {
   "LaTeX_envs_menu_present": true,
   "autoclose": false,
   "autocomplete": true,
   "bibliofile": "biblio.bib",
   "cite_by": "apalike",
   "current_citInitial": 1,
   "eqLabelWithNumbers": true,
   "eqNumInitial": 1,
   "hotkeys": {
    "equation": "Ctrl-E",
    "itemize": "Ctrl-I"
   },
   "labels_anchors": false,
   "latex_user_defs": false,
   "report_style_numbering": false,
   "user_envs_cfg": false
  }
 },
 "nbformat": 4,
 "nbformat_minor": 4
}
